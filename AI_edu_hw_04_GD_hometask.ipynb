{
  "nbformat": 4,
  "nbformat_minor": 0,
  "metadata": {
    "colab": {
      "provenance": [],
      "include_colab_link": true
    },
    "kernelspec": {
      "name": "python3",
      "display_name": "Python 3"
    },
    "language_info": {
      "name": "python"
    }
  },
  "cells": [
    {
      "cell_type": "markdown",
      "metadata": {
        "id": "view-in-github",
        "colab_type": "text"
      },
      "source": [
        "<a href=\"https://colab.research.google.com/github/nedokormysh/Stepik_AI_Education_Linear_algorithms/blob/week_4/AI_edu_hw_04_GD_hometask.ipynb\" target=\"_parent\"><img src=\"https://colab.research.google.com/assets/colab-badge.svg\" alt=\"Open In Colab\"/></a>"
      ]
    },
    {
      "cell_type": "markdown",
      "source": [
        "# Градиентный спуск"
      ],
      "metadata": {
        "id": "UxKHEXFaylYH"
      }
    },
    {
      "cell_type": "markdown",
      "source": [
        "Сгенерируем выборку для задачи регрессии и визуализируем данные"
      ],
      "metadata": {
        "id": "Tb-5iUrybT-m"
      }
    },
    {
      "cell_type": "code",
      "source": [
        "import random\n",
        "import matplotlib.pyplot as plt\n",
        "import numpy as np\n",
        "%matplotlib inline\n",
        "\n",
        "np.random.seed(42)\n",
        "\n",
        "X = np.linspace(-10,10,100)\n",
        "\n",
        "print(X.shape)\n",
        "\n",
        "y = X * (np.random.random_sample(len(X)) + 0.5)\n",
        "X = X.reshape(len(X), 1)\n",
        "\n",
        "print(X.shape)\n",
        "\n",
        "plt.scatter(X, y)"
      ],
      "metadata": {
        "colab": {
          "base_uri": "https://localhost:8080/",
          "height": 482
        },
        "id": "e6hYQKiiGpFq",
        "outputId": "4ea1a5cf-be1a-4a5c-b089-664e5a7ef6ad"
      },
      "execution_count": null,
      "outputs": [
        {
          "output_type": "stream",
          "name": "stdout",
          "text": [
            "(100,)\n",
            "(100, 1)\n"
          ]
        },
        {
          "output_type": "execute_result",
          "data": {
            "text/plain": [
              "<matplotlib.collections.PathCollection at 0x79701205da20>"
            ]
          },
          "metadata": {},
          "execution_count": 1
        },
        {
          "output_type": "display_data",
          "data": {
            "text/plain": [
              "<Figure size 640x480 with 1 Axes>"
            ],
            "image/png": "[encoded data removed]"
          },
          "metadata": {}
        }
      ]
    },
    {
      "cell_type": "markdown",
      "source": [
        "Реализуем метод градиентного спуска для обучения линейной регрессии."
      ],
      "metadata": {
        "id": "1YJ9cqoYG-N3"
      }
    },
    {
      "cell_type": "markdown",
      "source": [
        "Сначала напишем функцию для вычисления среднеквадратичной ошибки\n",
        "\n",
        "$MSE = \\frac{1}{m}||Xw - y||^2_2$.\n",
        "\n",
        "Здесь квадратичная ошибка записана в матричном виде, т.е. $X$ - матрица объект-признак, $w$ - вектор весов модели.\n",
        "*  $Xw$ - вектор предсказания модели\n",
        "*  $y$ - вектор правильных ответов,\n",
        "и квадратичная ошибка - это квадрат нормы разности вектора предсказания и вектора правильных ответов.\n",
        "\n",
        "Вычислить норму вектора в python можно разными способами. Здесь мы  воспользуемся готовой функцией из библиотеку numpy - numpy.linalg.norm."
      ],
      "metadata": {
        "id": "uqXcS5A5bLfX"
      }
    },
    {
      "cell_type": "code",
      "source": [
        "import numpy as np\n",
        "\n",
        "def compute_cost(X, y, theta):\n",
        "    m = len(y)\n",
        "\n",
        "    cost = (1./m) * (np.linalg.norm(X @ theta - y) ** 2)\n",
        "    return cost"
      ],
      "metadata": {
        "id": "YEQuDFkiHG4f"
      },
      "execution_count": null,
      "outputs": []
    },
    {
      "cell_type": "markdown",
      "source": [
        "Реализуем градиентный спуск по формуле\n",
        "\n",
        "$$w_{new} = w_{prev} - \\eta\\nabla_w Q(w_{prev})$$"
      ],
      "metadata": {
        "id": "Cj9DrXzZbOLi"
      }
    },
    {
      "cell_type": "markdown",
      "source": [
        "Вычислим градиент MSE:\n",
        "$$\\nabla_w Q(w)=\\frac2m X^T(Xw-y).$$"
      ],
      "metadata": {
        "id": "nkcALpyjdIAT"
      }
    },
    {
      "cell_type": "markdown",
      "source": [
        "Итак, реализуем метод градиентного спуска:\n",
        "\n",
        "*  первым шагом добавим к матрице $X$ единичный столбец - это константный признак, равный 1 на всех объектах. Он нужен, чтобы записать предсказание линейной регрессии в виде скалярного произведения и тем самым избавиться от знака суммы:\n",
        "$a(x)=w_0+w_1x_1+...+w_dx_d=w_1\\cdot 1+w_1x_1+...w_dx_d=(w,x)$\n",
        "\n",
        "В python скалярное произведение можно записать так: $w@x$\n",
        "\n",
        "*  затем инициализируем случайным образом вектор весов params\n",
        "\n",
        "*  зададим пустой массив cost_track, в который будем записывать ошибку на каждой итерации\n",
        "\n",
        "*  наконец, в цикле по количеству эпох (итераций) будем обновлять веса по формуле градиентного спуска"
      ],
      "metadata": {
        "id": "2jus26KKsKTz"
      }
    },
    {
      "cell_type": "markdown",
      "source": [
        "## Задание 1\n",
        "\n",
        "Добавьте в функцию градиентного спуска из семинара L2-регуляризацию.\n",
        "\n",
        "В этом случае градиент будет считаться по формуле\n",
        "\n",
        "$$\\nabla_w Q(w)=\\frac2m (X^T(Xw-y)+\\lambda w).$$\n",
        "\n",
        "Добавьте в функцию `gradient_descent` гиперпараметр `lambda_`, задайте его по умолчанию равным нулю."
      ],
      "metadata": {
        "id": "GnpEyztDmjVM"
      }
    },
    {
      "cell_type": "code",
      "source": [
        "X.shape"
      ],
      "metadata": {
        "colab": {
          "base_uri": "https://localhost:8080/"
        },
        "id": "z1kuVxjz6Yb_",
        "outputId": "f690ac1d-12a4-4c01-ce30-fb76d5df6025"
      },
      "execution_count": null,
      "outputs": [
        {
          "output_type": "execute_result",
          "data": {
            "text/plain": [
              "(100, 1)"
            ]
          },
          "metadata": {},
          "execution_count": 3
        }
      ]
    },
    {
      "cell_type": "code",
      "source": [
        "(X.shape[0], 1)"
      ],
      "metadata": {
        "colab": {
          "base_uri": "https://localhost:8080/"
        },
        "id": "t-7L3pR56bc-",
        "outputId": "05e9cee6-54d6-46b0-d992-5594aec9c2c7"
      },
      "execution_count": null,
      "outputs": [
        {
          "output_type": "execute_result",
          "data": {
            "text/plain": [
              "(100, 1)"
            ]
          },
          "metadata": {},
          "execution_count": 4
        }
      ]
    },
    {
      "cell_type": "code",
      "source": [
        "np.ones((X.shape[0]))"
      ],
      "metadata": {
        "colab": {
          "base_uri": "https://localhost:8080/"
        },
        "id": "22nFtWdm6dbt",
        "outputId": "3dec6eb6-0c87-4e26-ace6-b000e733aa58"
      },
      "execution_count": null,
      "outputs": [
        {
          "output_type": "execute_result",
          "data": {
            "text/plain": [
              "array([1., 1., 1., 1., 1., 1., 1., 1., 1., 1., 1., 1., 1., 1., 1., 1., 1.,\n",
              "       1., 1., 1., 1., 1., 1., 1., 1., 1., 1., 1., 1., 1., 1., 1., 1., 1.,\n",
              "       1., 1., 1., 1., 1., 1., 1., 1., 1., 1., 1., 1., 1., 1., 1., 1., 1.,\n",
              "       1., 1., 1., 1., 1., 1., 1., 1., 1., 1., 1., 1., 1., 1., 1., 1., 1.,\n",
              "       1., 1., 1., 1., 1., 1., 1., 1., 1., 1., 1., 1., 1., 1., 1., 1., 1.,\n",
              "       1., 1., 1., 1., 1., 1., 1., 1., 1., 1., 1., 1., 1., 1., 1.])"
            ]
          },
          "metadata": {},
          "execution_count": 5
        }
      ]
    },
    {
      "cell_type": "code",
      "source": [
        "np.hstack((np.ones((X.shape)), X)).shape"
      ],
      "metadata": {
        "colab": {
          "base_uri": "https://localhost:8080/"
        },
        "id": "SZcoeg2b6f1i",
        "outputId": "815f8070-f49f-4753-fac9-9f6b795d0382"
      },
      "execution_count": null,
      "outputs": [
        {
          "output_type": "execute_result",
          "data": {
            "text/plain": [
              "(100, 2)"
            ]
          },
          "metadata": {},
          "execution_count": 6
        }
      ]
    },
    {
      "cell_type": "code",
      "execution_count": null,
      "metadata": {
        "id": "o-2MOdaRGlbf"
      },
      "outputs": [],
      "source": [
        "# def gradient_descent(X, y, learning_rate, iterations, ...):\n",
        "\n",
        "#     # your code here"
      ]
    },
    {
      "cell_type": "code",
      "source": [
        "def gradient_descent(X, y, learning_rate, iterations, lambda_=0):\n",
        "    X = np.hstack((np.ones(X.shape), X))\n",
        "    w = np.random.rand(X.shape[1])\n",
        "\n",
        "    m = X.shape[0] # число объектов\n",
        "\n",
        "    cost_track = np.zeros((iterations,1)) # массив с ошибками (MSE)\n",
        "    err = []\n",
        "    for i in range(1, iterations):\n",
        "\n",
        "        w = w - 2 / m * learning_rate * (X.T @ ((X @ w) - y) + lambda_ * w)\n",
        "        cost_track[i] = compute_cost(X, y, w)\n",
        "        err.append(compute_cost(X, y, w))\n",
        "\n",
        "    return err, w"
      ],
      "metadata": {
        "id": "zoG8sDVJiAo_"
      },
      "execution_count": null,
      "outputs": []
    },
    {
      "cell_type": "code",
      "source": [
        "# def gradient_descent_v2(X: np.array, y: np.array, learning_rate: float, iterations: int, lambda_=0.0) -> np.array:\n",
        "\n",
        "#      X = np.hstack((np.ones((X.shape[0], 1)), X)) #добавляем константный признак\n",
        "\n",
        "#      m = X.shape[0] #вычисляем количество объектов\n",
        "#      params = np.random.rand(X.shape[1]) #случайным образом инициализируем веса\n",
        "\n",
        "#      errors = []\n",
        "\n",
        "#      for i in range(0, iterations):\n",
        "\n",
        "#           grad_mse = 2./m*((X.T @ (X @ params - y)) + lambda_*params)\n",
        "\n",
        "#           params -= learning_rate*grad_mse\n",
        "\n",
        "#           errors.append(compute_cost(X, y, params))\n",
        "\n",
        "#      return errors, params"
      ],
      "metadata": {
        "id": "yPlMxVUIrOIG"
      },
      "execution_count": null,
      "outputs": []
    },
    {
      "cell_type": "markdown",
      "source": [
        "## Задание 2\n",
        "\n",
        "Модифицируйте функцию из задания 1 так, чтобы она осуществляла стохастический градиентный спуск - назовите новую функцию `stochastic_gradient_descent` (она также должна учитывать регуляризацию).\n",
        "\n",
        "* в стохастическом градиентном спуске на каждой итерации метода мы выбираем случайный объект - пусть это будет индекс случайного объекта `ind`\n",
        "\n",
        "* затем применяем обычный градиентный спуск, но с условием, что градиент считается не по всем объектам, а только по объекту с индексом `ind`, поэтому в формуле для обновления весов должно произойти два изменения:\n",
        "  - мы обращаемся не ко всей матрице `X`, а только к одному объекту.\n",
        "\n",
        "  **Подсказка:** чтобы матричная запись не поменялась, мы можем объявить новую матрицу `X_ind = X[ind, :].reshape(-1,1)` и работать с ней.\n",
        "  - при вычислении градиента по одному объекту делить результат на число объектов `m` не требуется."
      ],
      "metadata": {
        "id": "vvBbtaE-n7Yk"
      }
    },
    {
      "cell_type": "code",
      "source": [
        "# def stochastic_gradient_descent(X, y, learning_rate, iterations, ...):\n",
        "\n",
        "#     # your code here"
      ],
      "metadata": {
        "id": "4-VngWBHmUxE"
      },
      "execution_count": null,
      "outputs": []
    },
    {
      "cell_type": "code",
      "source": [
        "np.random.seed(42)\n",
        "X_ = np.hstack((np.ones(X.shape), X))\n",
        "X_ind = X_[5, :].reshape(-1,1)\n",
        "y_ind = y[5]\n",
        "w0 = np.random.rand(X_.shape[1],1)\n",
        "# # # y_ind = y[[5]]\n",
        "# # X_ind @ w.T\n",
        "# # # X_ind.shape, w.shape\n",
        "# w = w0\n",
        "# w#, X_ind\n",
        "w0"
      ],
      "metadata": {
        "colab": {
          "base_uri": "https://localhost:8080/"
        },
        "id": "bojvaZX9nyfw",
        "outputId": "60a59d2e-3414-41f3-cfe1-1e3614b0114f"
      },
      "execution_count": null,
      "outputs": [
        {
          "output_type": "execute_result",
          "data": {
            "text/plain": [
              "array([[0.37454012],\n",
              "       [0.95071431]])"
            ]
          },
          "metadata": {},
          "execution_count": 106
        }
      ]
    },
    {
      "cell_type": "code",
      "source": [
        "def stochastic_gradient_descent(X, y, learning_rate, iterations, lambda_=0):\n",
        "    X = np.hstack((np.ones((X.shape)), X))\n",
        "    w = np.random.rand(X.shape[1])#.reshape(1,-1)\n",
        "    err = []\n",
        "\n",
        "    m = X.shape[0] # число объектов\n",
        "\n",
        "    cost_track = np.zeros((iterations,1)) # массив с ошибками (MSE)\n",
        "\n",
        "    for i in range(0, iterations):\n",
        "        ind = np.random.randint(m)\n",
        "        X_ind = X[ind, :].reshape(1,-1)\n",
        "        y_ind = y[ind]\n",
        "\n",
        "        w = w - 2 * learning_rate * (X_ind.T @ ((X_ind @ w) - y_ind) + lambda_ * w)\n",
        "\n",
        "        err.append(compute_cost(X, y, w))\n",
        "\n",
        "    return err, w"
      ],
      "metadata": {
        "id": "2jo0cIShouKT"
      },
      "execution_count": null,
      "outputs": []
    },
    {
      "cell_type": "code",
      "source": [
        "# def stochastic_gradient_descent_v3(X: np.array, y: np.array, learning_rate: float, iterations: int, lambda_=0.0):\n",
        "\n",
        "#     X = np.hstack((np.ones((X.shape[0], 1)), X))\n",
        "\n",
        "#     params = np.random.rand(X.shape[1]) #.reshape(-1, 1)\n",
        "\n",
        "#     errors = []\n",
        "\n",
        "#     for i in range(0, iterations):\n",
        "\n",
        "#         ind = np.random.randint(X.shape[0])\n",
        "\n",
        "#         random_object_X = X[ind, :].reshape(1,-1)\n",
        "#         random_object_y = y[ind]\n",
        "\n",
        "#         grad_mse = 2*(random_object_X.T @ (random_object_X @ params - random_object_y) + lambda_*params)\n",
        "\n",
        "#         params -= learning_rate*grad_mse\n",
        "\n",
        "#         errors.append(compute_cost(X, y, params))\n",
        "\n",
        "#     return errors, params"
      ],
      "metadata": {
        "id": "7oHa6t4xnT-6"
      },
      "execution_count": null,
      "outputs": []
    },
    {
      "cell_type": "code",
      "source": [
        "# def stochastic_gradient_descent_v2(X, y, learning_rate, iterations, lambda_=0):\n",
        "#     X = np.hstack((np.ones(X.shape), X))\n",
        "#     w0 = np.random.rand(X.shape[1])\n",
        "\n",
        "\n",
        "#     m = X.shape[0] # число объектов\n",
        "\n",
        "#     w = w0\n",
        "\n",
        "#     for i in range(1, iterations):\n",
        "#         ind = np.random.randint(m)\n",
        "#         X_ind = X[ind, :].reshape((1,2))\n",
        "#         y_ind = y[ind]\n",
        "\n",
        "#         w = w - 2 * learning_rate * (X_ind.T @ ((X_ind @ w) - y_ind) + lambda_ * w)\n",
        "\n",
        "#     return w"
      ],
      "metadata": {
        "id": "b2hOYqpfZTjj"
      },
      "execution_count": null,
      "outputs": []
    },
    {
      "cell_type": "markdown",
      "source": [
        "Создадим функцию для получения предсказания модели"
      ],
      "metadata": {
        "id": "R__qZ_ESbQ98"
      }
    },
    {
      "cell_type": "code",
      "source": [
        "def predict(X, params):\n",
        "    X = np.hstack((np.ones((X.shape[0], 1)), X))\n",
        "    return X @ params"
      ],
      "metadata": {
        "id": "REpiCGpGaVO6"
      },
      "execution_count": null,
      "outputs": []
    },
    {
      "cell_type": "markdown",
      "source": [
        "## Вопрос 1\n",
        "\n",
        "Примените функцию `gradient_descent` без регуляризации, с шагом 0.01 и 100 итерациями.\n",
        "\n",
        "Чему равен наибольший вес модели? Ответ округлите до сотых."
      ],
      "metadata": {
        "id": "tZh5I2tgpwFN"
      }
    },
    {
      "cell_type": "code",
      "source": [
        "# your code here\n",
        "cost, w = gradient_descent(X, y, .01, 100)"
      ],
      "metadata": {
        "id": "yR_Taz95p7xn"
      },
      "execution_count": null,
      "outputs": []
    },
    {
      "cell_type": "code",
      "source": [
        "round(abs(w.max()), 2)"
      ],
      "metadata": {
        "colab": {
          "base_uri": "https://localhost:8080/"
        },
        "id": "kG1skzkPDBXj",
        "outputId": "86928c9b-be20-47ed-f7ff-e891cbd84ed3"
      },
      "execution_count": null,
      "outputs": [
        {
          "output_type": "execute_result",
          "data": {
            "text/plain": [
              "0.97"
            ]
          },
          "metadata": {},
          "execution_count": 227
        }
      ]
    },
    {
      "cell_type": "markdown",
      "source": [
        "## Вопрос 2\n",
        "\n",
        "Примените функцию `gradient_descent` с коэффициентом регуляризации 1000, с шагом 0.01 и 100 итерациями.\n",
        "\n",
        "Чему равен наибольший вес модели? Ответ округлите до сотых."
      ],
      "metadata": {
        "id": "fpBOWHC6p_VQ"
      }
    },
    {
      "cell_type": "code",
      "source": [
        "# your code here\n",
        "\n",
        "cost, w = gradient_descent(X, y, .01, 100, 1000)"
      ],
      "metadata": {
        "id": "vEVrUAc5p_VR"
      },
      "execution_count": null,
      "outputs": []
    },
    {
      "cell_type": "code",
      "source": [
        "round(abs(w.max()), 2)"
      ],
      "metadata": {
        "colab": {
          "base_uri": "https://localhost:8080/"
        },
        "id": "68LCbrwHFI9r",
        "outputId": "1bc2b454-2156-4a7e-afa4-dbc121d6730b"
      },
      "execution_count": null,
      "outputs": [
        {
          "output_type": "execute_result",
          "data": {
            "text/plain": [
              "0.75"
            ]
          },
          "metadata": {},
          "execution_count": 229
        }
      ]
    },
    {
      "cell_type": "markdown",
      "source": [
        "## Вопрос 3\n",
        "\n",
        "Примените функцию `stochastic_gradient_descent` без регуляризации, с шагом 0.001 и 100 итерациями.\n",
        "\n",
        "Чему равен наибольший вес модели? Ответ округлите до сотых."
      ],
      "metadata": {
        "id": "69OMY-K2qGZy"
      }
    },
    {
      "cell_type": "code",
      "source": [
        "np.random.seed(42)\n",
        "\n",
        "# your code here\n",
        "\n",
        "cost, w = stochastic_gradient_descent(X, y, .001, 100)\n",
        "round(abs(w.max()), 2)"
      ],
      "metadata": {
        "id": "F5HfroPFqGZ1",
        "colab": {
          "base_uri": "https://localhost:8080/"
        },
        "outputId": "c60d7287-2c67-4191-daa4-40924c9dbab2"
      },
      "execution_count": null,
      "outputs": [
        {
          "output_type": "execute_result",
          "data": {
            "text/plain": [
              "1.0"
            ]
          },
          "metadata": {},
          "execution_count": 232
        }
      ]
    },
    {
      "cell_type": "markdown",
      "source": [
        "## Вопрос 4\n",
        "\n",
        "Примените функцию `stochastic_gradient_descent` с коэффициентом регуляризации 100, с шагом 0.001 и 100 итерациями.\n",
        "\n",
        "Чему равен наибольший вес модели? Ответ округлите до сотых."
      ],
      "metadata": {
        "id": "9mnbe97RqtA1"
      }
    },
    {
      "cell_type": "code",
      "source": [
        "np.random.seed(42)\n",
        "\n",
        "# your code here\n",
        "\n",
        "_, w = stochastic_gradient_descent(X, y, .001, 100, 100)\n",
        "round(w.max(), 2)"
      ],
      "metadata": {
        "id": "26_l2uCdqtA3",
        "colab": {
          "base_uri": "https://localhost:8080/"
        },
        "outputId": "e97b5d80-fc66-4b0c-812f-0708bc056b88"
      },
      "execution_count": null,
      "outputs": [
        {
          "output_type": "execute_result",
          "data": {
            "text/plain": [
              "0.25"
            ]
          },
          "metadata": {},
          "execution_count": 234
        }
      ]
    },
    {
      "cell_type": "markdown",
      "source": [
        "## Вопрос 5\n",
        "\n",
        "Нарисуйте ошибку в зависимости от номера итерации для GD и SGD на одной картинке. Используйте для обучения в обоих случаях `learning_rate=0.001, iterations=100, lambda_=0.`\n",
        "\n",
        "Можно ли сказать, что оба графика монотонно убывают?"
      ],
      "metadata": {
        "id": "cTsAye0Uq-VW"
      }
    },
    {
      "cell_type": "code",
      "source": [
        "cost_0, w = gradient_descent(X, y, .01, 100)"
      ],
      "metadata": {
        "id": "pBntkyzDq-Va"
      },
      "execution_count": null,
      "outputs": []
    },
    {
      "cell_type": "code",
      "source": [
        "plt.plot(cost_0)"
      ],
      "metadata": {
        "colab": {
          "base_uri": "https://localhost:8080/",
          "height": 447
        },
        "id": "WYPQ7901rtuz",
        "outputId": "166af288-e379-4d80-fcf7-fbe6c0e3a768"
      },
      "execution_count": null,
      "outputs": [
        {
          "output_type": "execute_result",
          "data": {
            "text/plain": [
              "[<matplotlib.lines.Line2D at 0x796fdd329240>]"
            ]
          },
          "metadata": {},
          "execution_count": 246
        },
        {
          "output_type": "display_data",
          "data": {
            "text/plain": [
              "<Figure size 640x480 with 1 Axes>"
            ],
            "image/png": "[encoded data removed]"
          },
          "metadata": {}
        }
      ]
    },
    {
      "cell_type": "code",
      "source": [
        "cost_1, w = stochastic_gradient_descent(X, y, .001, 100)\n",
        "plt.plot(cost_0)\n",
        "plt.plot(cost_1)"
      ],
      "metadata": {
        "colab": {
          "base_uri": "https://localhost:8080/",
          "height": 447
        },
        "id": "J7JZYKgEr1PO",
        "outputId": "cff4f3b2-93a8-456e-b669-48d6ad8a8026"
      },
      "execution_count": null,
      "outputs": [
        {
          "output_type": "execute_result",
          "data": {
            "text/plain": [
              "[<matplotlib.lines.Line2D at 0x796fdd38e2c0>]"
            ]
          },
          "metadata": {},
          "execution_count": 247
        },
        {
          "output_type": "display_data",
          "data": {
            "text/plain": [
              "<Figure size 640x480 with 1 Axes>"
            ],
            "image/png": "[encoded data removed]"
          },
          "metadata": {}
        }
      ]
    },
    {
      "cell_type": "markdown",
      "source": [
        "## Задание (бонус, без проверки)\n",
        "\n",
        "Реализуйте стохастический градиентный спуск с регуляризацией в виде класса. Протестируйте его."
      ],
      "metadata": {
        "id": "7x3Gt7vYrpCq"
      }
    },
    {
      "cell_type": "code",
      "source": [
        "# your code here"
      ],
      "metadata": {
        "id": "QJQEMrvfrxpf"
      },
      "execution_count": null,
      "outputs": []
    }
  ]
}