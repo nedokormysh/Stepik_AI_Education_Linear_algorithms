{
  "cells": [
    {
      "cell_type": "markdown",
      "metadata": {
        "id": "view-in-github",
        "colab_type": "text"
      },
      "source": [
        "<a href=\"https://colab.research.google.com/github/nedokormysh/Stepik_AI_Education_Linear_algorithms/blob/week_1/classes_intro.ipynb\" target=\"_parent\"><img src=\"https://colab.research.google.com/assets/colab-badge.svg\" alt=\"Open In Colab\"/></a>"
      ]
    },
    {
      "cell_type": "markdown",
      "source": [
        "# ООП в Python. Часть 1\n"
      ],
      "metadata": {
        "id": "AwrBpoKYuwCn"
      }
    },
    {
      "cell_type": "markdown",
      "metadata": {
        "id": "57byHXhMDI6V"
      },
      "source": [
        "## Вступление\n",
        "Бывает, что вам нужно написать программу, которую вы запустите один раз и которая просто должна решить некоторую задачу. В этом случае все средства хороши, и можно оформлять код так, как вам удобно. Есть и другая ситуация: вам надо запрограммировать что-то, что потом вы будете использовать много раз, а ещё этот код могут захотеть редактировать другие люди. Тут надо задуматься о правильном оформлении кода.\n",
        "\n",
        "В машинном обучении главное — это модели, их обучение, применение, подсчёт качества и прочие связанные операции. Допустим, вы собрались запрограммировать обучение и применение метода k ближайших соседей и выложить в открытый доступ. Тогда будет логично потребовать от вашего кода следующее:\n",
        "1. Вы можете что-то улучшить в нём, не поменяв логику работы, и это не сломает ничего у пользователей. Будет странно, если вы, скажем, замените циклы на векторные операции в numpy, опубликуете новую версию, и любой код, зависящий от вашего, перестанет работать. Ведь суть того, что делает ваш код, не поменялась!\n",
        "2. Достаточно легко можно сделать расширенные версии kNN на основе вашего кода — например, запрограммировать kNN с весами.\n",
        "3. От пользователей скрыты все детали вашей реализации — чтобы пользоваться вашим кодом для kNN, им не нужно вникать, как вы храните данные, как ищете ближайших соседей и т.д. Они просто вызывают нужные функции, и всё работает.\n",
        "\n",
        "Объектно-ориентированное программирование (ООП) — это подход к организации кода, который (наверное) лучше всего подходит для оформления операций из машинного обучения. В его основе лежат классы и объекты, а также три важных свойства: инкапсуляция, наследование и полиморфизм. Ниже мы разберёмся со всем этим.\n",
        "\n",
        "Программист может создать класс, своеобразный чертёж, который будет определять поведение объектов этого класса: какие данные они могут хранить и какой код исполнять. После этого можно создавать объекты класса с ожидаемым поведением.\n",
        "\n",
        "Поломать голову над формальными определениями ООП можно [на вики](https://ru.wikipedia.org/wiki/%D0%9E%D0%B1%D1%8A%D0%B5%D0%BA%D1%82%D0%BD%D0%BE-%D0%BE%D1%80%D0%B8%D0%B5%D0%BD%D1%82%D0%B8%D1%80%D0%BE%D0%B2%D0%B0%D0%BD%D0%BD%D0%BE%D0%B5_%D0%BF%D1%80%D0%BE%D0%B3%D1%80%D0%B0%D0%BC%D0%BC%D0%B8%D1%80%D0%BE%D0%B2%D0%B0%D0%BD%D0%B8%D0%B5)."
      ]
    },
    {
      "cell_type": "markdown",
      "metadata": {
        "id": "Wf4Iirv5ucSn"
      },
      "source": [
        "## Как создать класс\n",
        "Класс в питоне создаётся специальной конструкцией `class`. Экземпляр (объект, instance) класса создаётся вызовом класса со скобками."
      ]
    },
    {
      "cell_type": "code",
      "source": [
        "import numpy as np\n",
        "\n",
        "a = np.array([1, 2, 3])\n",
        "type(a), a"
      ],
      "metadata": {
        "colab": {
          "base_uri": "https://localhost:8080/"
        },
        "id": "qkf-_aTewwS8",
        "outputId": "12e58dec-dfd7-4262-df06-70090d47b6f3"
      },
      "execution_count": null,
      "outputs": [
        {
          "output_type": "execute_result",
          "data": {
            "text/plain": [
              "(numpy.ndarray, array([1, 2, 3]))"
            ]
          },
          "metadata": {},
          "execution_count": 54
        }
      ]
    },
    {
      "cell_type": "code",
      "source": [
        "a = 3\n",
        "type(a)"
      ],
      "metadata": {
        "colab": {
          "base_uri": "https://localhost:8080/"
        },
        "id": "TwYiuoLoUzQL",
        "outputId": "8b0b477d-2fd5-4886-c1ba-dcaa48f8fe7e"
      },
      "execution_count": null,
      "outputs": [
        {
          "output_type": "execute_result",
          "data": {
            "text/plain": [
              "int"
            ]
          },
          "metadata": {},
          "execution_count": 58
        }
      ]
    },
    {
      "cell_type": "code",
      "execution_count": null,
      "metadata": {
        "id": "79i_EYnmDI6W"
      },
      "outputs": [],
      "source": [
        "class DummyClass:\n",
        "    pass"
      ]
    },
    {
      "cell_type": "code",
      "source": [
        "dummy_object = DummyClass()\n",
        "\n",
        "dummy_object"
      ],
      "metadata": {
        "colab": {
          "base_uri": "https://localhost:8080/"
        },
        "id": "4jteQKG7wtqS",
        "outputId": "d3f9982d-5c7e-4e9e-bb99-f3bcad09061c"
      },
      "execution_count": null,
      "outputs": [
        {
          "output_type": "execute_result",
          "data": {
            "text/plain": [
              "<__main__.DummyClass at 0x79705ea83850>"
            ]
          },
          "metadata": {},
          "execution_count": 57
        }
      ]
    },
    {
      "cell_type": "markdown",
      "metadata": {
        "id": "DyCg5UmdDI6X"
      },
      "source": [
        "Названия классов в питоне пишутся CamelCase, названия функций/объектов/переменных snake_case."
      ]
    },
    {
      "cell_type": "markdown",
      "metadata": {
        "id": "-iCFJYh0DI6X"
      },
      "source": [
        "## Методы\n",
        "\n",
        "Классы могут определять функции, которые можно будет вызывать от их объектов. Такие функции называются методами. В любом (почти) методе первым аргументом является self. В него будет передан сам объект, от которого вызывается метод.\n",
        "\n",
        "Наш класс не особо полезен, так как ничего не делает. Давайте напишем класс с методом. Вызов методов происходит через оператор `.`"
      ]
    },
    {
      "cell_type": "code",
      "execution_count": null,
      "metadata": {
        "id": "uIe4LRcPDI6X",
        "outputId": "63bed30f-3ff4-4dbb-d4bb-f8fed3417fe0",
        "colab": {
          "base_uri": "https://localhost:8080/"
        }
      },
      "outputs": [
        {
          "output_type": "stream",
          "name": "stdout",
          "text": [
            "\n"
          ]
        }
      ],
      "source": [
        "GOOSE = \"\"\"\n",
        "░░░░░▄▀▀▀▄░░░░░░░░\n",
        "▄███▀░◐░░░▌░░░░░░░\n",
        "░░░░▌░░░░░▐░░░░░░░\n",
        "░░░░▐░░░░░▐░░░░░░░\n",
        "░░░░▌░░░░░▐▄▄░░░░░\n",
        "░░░░▌░░░░▄▀▒▒▀▀▀▀▄\n",
        "░░░▐░░░░▐▒▒▒▒▒▒▒▒▀▀▄\n",
        "░░░▐░░░░▐▄▒▒▒▒▒▒▒▒▒▒▀▄\n",
        "░░░░▀▄░░░░▀▄▒▒▒▒▒▒▒▒▒▒▀▄\n",
        "░░░░░░▀▄▄▄▄▄█▄▄▄▄▄▄▄▄▄▄▄▀▄\n",
        "░░░░░░░░░░░▌▌▌▌░░░░░\n",
        "░░░░░░░░░░░▌▌░▌▌░░░░░\n",
        "░░░░░░░░░▄▄▌▌▄▌▌░░░░░\"\"\"\n",
        "\n",
        "\n",
        "class GoosePrinter:\n",
        "    GOOSE = \"\"\n",
        "\n",
        "    def print_goose(self) -> None:\n",
        "        print(self.GOOSE)\n"
      ]
    },
    {
      "cell_type": "code",
      "source": [
        "goose_printer_1 = GoosePrinter()\n",
        "goose_printer_2 = GoosePrinter()"
      ],
      "metadata": {
        "id": "qdQmPTC8WEEQ"
      },
      "execution_count": null,
      "outputs": []
    },
    {
      "cell_type": "code",
      "source": [
        "goose_printer = GoosePrinter()"
      ],
      "metadata": {
        "id": "Mpg8bHT5WOXp"
      },
      "execution_count": null,
      "outputs": []
    },
    {
      "cell_type": "code",
      "source": [
        "goose_printer.print_goose()"
      ],
      "metadata": {
        "colab": {
          "base_uri": "https://localhost:8080/"
        },
        "id": "Gw1SYI61WRon",
        "outputId": "f26add79-46e7-4936-96c2-102519fa35d7"
      },
      "execution_count": null,
      "outputs": [
        {
          "output_type": "stream",
          "name": "stdout",
          "text": [
            "\n"
          ]
        }
      ]
    },
    {
      "cell_type": "code",
      "execution_count": null,
      "metadata": {
        "id": "WJeeqPgiDI6Y",
        "outputId": "b49daf3a-e750-4aa2-dd29-1aafd1019ff0",
        "colab": {
          "base_uri": "https://localhost:8080/"
        }
      },
      "outputs": [
        {
          "output_type": "execute_result",
          "data": {
            "text/plain": [
              "mappingproxy({'__module__': '__main__',\n",
              "              'GOOSE': '',\n",
              "              'print_goose': <function __main__.GoosePrinter.print_goose(self) -> None>,\n",
              "              '__dict__': <attribute '__dict__' of 'GoosePrinter' objects>,\n",
              "              '__weakref__': <attribute '__weakref__' of 'GoosePrinter' objects>,\n",
              "              '__doc__': None})"
            ]
          },
          "metadata": {},
          "execution_count": 64
        }
      ],
      "source": [
        "vars(GoosePrinter)"
      ]
    },
    {
      "cell_type": "markdown",
      "metadata": {
        "id": "t2qmFba2DI6Y"
      },
      "source": [
        "Обратите внимание, что мы вызвали метод без аргументов, хотя в сигнатуре есть аргумент `self`. `self` подаётся \"автоматически\"."
      ]
    },
    {
      "cell_type": "markdown",
      "metadata": {
        "id": "E21HgeRADI6Y"
      },
      "source": [
        "**NB:** первый аргумент можно назвать как угодно, не обязательно `self`. Но не нужно."
      ]
    },
    {
      "cell_type": "markdown",
      "metadata": {
        "id": "p_jqonyODI6Y"
      },
      "source": [
        "## Атрибуты класса и метод `__init__`\n",
        "\n",
        "Помимо методов у объектов класса могут быть атрибуты &mdash; переменные. К ним так же можно обращаться через `.`, а создавать внутри класса их как раз можно при помощи вышеупомянутого `self`.\n",
        "\n",
        "Любой класс может определить метод `__init__` &mdash; конструктор: он выполняется при создании объекта класса, а его аргументы передаются в скобках после названия класса во время создания. Обычно именно в нём и задаются атрибуты класса.\n",
        "\n",
        "Давайте напишем класс целочисленной точки на плоскости, объекты которого будут уметь выводить свои координаты:"
      ]
    },
    {
      "cell_type": "code",
      "execution_count": null,
      "metadata": {
        "colab": {
          "base_uri": "https://localhost:8080/"
        },
        "id": "BY3N2D_8DI6Z",
        "outputId": "c10ec664-5196-43b9-b59c-0733c08071a8"
      },
      "outputs": [
        {
          "output_type": "stream",
          "name": "stdout",
          "text": [
            "(3, 5)\n"
          ]
        }
      ],
      "source": [
        "class Point2D:\n",
        "    \"\"\"\n",
        "    A point in 2D space\n",
        "    :param x: x coordinate\n",
        "    :param y: y coordinate\n",
        "    \"\"\"\n",
        "\n",
        "    def __init__(self, x: int, y: int) -> None:\n",
        "        # Создаём атрибуты и присваиваем им переданные значения координат\n",
        "        self.x = x\n",
        "        self.y = y\n",
        "\n",
        "    def print_coords(self) -> None:\n",
        "        # Выводим координаты, обращаясь к ним через self с точкой\n",
        "        print(f\"({self.x}, {self.y})\")\n",
        "\n",
        "    def first_coord(self) -> int:\n",
        "        return x\n",
        "\n",
        "\n",
        "point = Point2D(3, 5)\n",
        "point.print_coords()\n",
        "\n",
        "# vars(Point2D)"
      ]
    },
    {
      "cell_type": "code",
      "source": [
        "vars(Point2D)"
      ],
      "metadata": {
        "colab": {
          "base_uri": "https://localhost:8080/"
        },
        "id": "e3Vn5X6jXjCg",
        "outputId": "6312ac07-6519-4136-e7f4-d5fdc3c3c7e6"
      },
      "execution_count": null,
      "outputs": [
        {
          "output_type": "execute_result",
          "data": {
            "text/plain": [
              "mappingproxy({'__module__': '__main__',\n",
              "              '__doc__': '\\n    A point in 2D space\\n    :param x: x coordinate\\n    :param y: y coordinate\\n    ',\n",
              "              '__init__': <function __main__.Point2D.__init__(self, x: int, y: int) -> None>,\n",
              "              'print_coords': <function __main__.Point2D.print_coords(self) -> None>,\n",
              "              'first_coord': <function __main__.Point2D.first_coord(self) -> int>,\n",
              "              '__dict__': <attribute '__dict__' of 'Point2D' objects>,\n",
              "              '__weakref__': <attribute '__weakref__' of 'Point2D' objects>})"
            ]
          },
          "metadata": {},
          "execution_count": 66
        }
      ]
    },
    {
      "cell_type": "markdown",
      "metadata": {
        "id": "mkSztPH2DI6Z"
      },
      "source": [
        "Мы задаём координаты в конструкторе, присваивая их `self` через точку, и потом можем использовать их в методе."
      ]
    },
    {
      "cell_type": "markdown",
      "metadata": {
        "id": "AgksAiRIDI6Z"
      },
      "source": [
        "## Magic методы\n",
        "В питоне у классов могут быть так называемые магические методы. Это методы, которые может определить класс, которые позволяют ему действовать определённым образом. Обычно они не вызываются напрямую.\n",
        "\n",
        "Все магические методы отличаются тем, что их названия начинаются и заканчиваются на двойные подчёркивания (`__method__`). С одним таким мы уже познакомились &mdash; это метод `__init__`, который вызывается при создании объекта класса. Давайте посмотрим, какие ещё бывают магические методы:"
      ]
    },
    {
      "cell_type": "markdown",
      "metadata": {
        "id": "8Ruq1mxpucSu"
      },
      "source": [
        "### \\_\\_str\\_\\_ и \\_\\_repr\\_\\_ [(Документация)](https://docs.python.org/3/reference/datamodel.html#object.__repr__)\n",
        "Методы `__str__` и `__repr__` позволяют добавить текстовое описание к объекту класса. Они возвращают строку, описывающую объект.\n",
        "\n",
        "Метод `__str__` должен возвращать строку, описывающую объект простым, понятным, читаемым образом, а метод `__repr__` предназаначен больше для дебага и должен возвращать всю информацию об объекте, а его вывод должен в идеале быть исполняемым кодом, с помощью которого можно было бы создать такой же объект.\n",
        "\n",
        "Метод `__str__` вызывается, например, когда мы принтим объект или берём `str` от него (например, `str(point)`).\n",
        "Метод `__repr__` вызывается, например, когда мы просто выводим объект в консоли или берём `repr` от него.\n",
        "Если `__str__` не определён, по дефолту его роль будет играть `__repr__`.\n",
        "\n",
        "Давайте избавимся от метода `print_coords` и добавим нашим точкам хорошее форматирование:"
      ]
    },
    {
      "cell_type": "code",
      "execution_count": null,
      "metadata": {
        "colab": {
          "base_uri": "https://localhost:8080/"
        },
        "id": "emSxWDoPDI6a",
        "outputId": "b7f00cee-37c7-4060-ac16-e4564476ae72"
      },
      "outputs": [
        {
          "output_type": "stream",
          "name": "stdout",
          "text": [
            "Некрасивая точка: <__main__.Point2D object at 0x79705ea828c0>\n",
            "A 2D point with coordinates (5, 5)\n"
          ]
        },
        {
          "output_type": "execute_result",
          "data": {
            "text/plain": [
              "Point2D(3, 4)"
            ]
          },
          "metadata": {},
          "execution_count": 67
        }
      ],
      "source": [
        "# Для начала убедимся, что по дефолту наши точки не умеют красиво печататься:\n",
        "print(f\"Некрасивая точка: {Point2D(5, 5)}\")\n",
        "\n",
        "\n",
        "class Point2D:\n",
        "    \"\"\"\n",
        "    A point in 2D space\n",
        "    :param x: x coordinate\n",
        "    :param y: y coordinate\n",
        "    \"\"\"\n",
        "\n",
        "    def __init__(self, x: int, y: int) -> None:\n",
        "        # Создаём атрибуты и присваиваем им переданные значения координат\n",
        "        self.x = x\n",
        "        self.y = y\n",
        "\n",
        "    def __repr__(self) -> str:\n",
        "        return f\"Point2D({self.x}, {self.y})\"\n",
        "\n",
        "    def __str__(self) -> str:\n",
        "        return f\"A 2D point with coordinates ({self.x}, {self.y})\"\n",
        "\n",
        "\n",
        "# Посмотрим, что у нас есть теперь:\n",
        "print(Point2D(5, 5))\n",
        "Point2D(3, 4)"
      ]
    },
    {
      "cell_type": "code",
      "execution_count": null,
      "metadata": {
        "id": "fVbzdcZvDI6a"
      },
      "outputs": [],
      "source": [
        "p = Point2D(10, 11)\n",
        "p"
      ]
    },
    {
      "cell_type": "code",
      "execution_count": null,
      "metadata": {
        "id": "uV6iL3PBDI6a"
      },
      "outputs": [],
      "source": [
        "print(p)"
      ]
    },
    {
      "cell_type": "markdown",
      "metadata": {
        "id": "nSeeQGQ_DI6b"
      },
      "source": [
        "Обратите внимание, что `__str__` вызвался, когда мы запринтили объект, а `__repr__`, когда мы вывели его в конце ячейки."
      ]
    },
    {
      "cell_type": "markdown",
      "metadata": {
        "id": "HlTeTyJwDI6b"
      },
      "source": [
        "### \\_\\_add\\_\\_, \\_\\_sub\\_\\_, \\_\\_mul\\_\\_, \\_\\_truediv\\_\\_, etc. [(Документация)](https://docs.python.org/3/reference/datamodel.html#emulating-numeric-types)\n",
        "\n",
        "Методы `__add__`, `__sub__`, `__mul__`, `__truediv__` позволяют добавить классу функционал сложения, вычитания, умножения, деления и так далее, (операторы `+`, `-`, `*`, `/`, etc.). Они вызываются от левого операнда и применяются к правому, возвращая результат. Давайте научим наши точки складываться и вычитаться:"
      ]
    },
    {
      "cell_type": "code",
      "source": [
        "# Point2D(1, 2) + Point2D(2, 3)"
      ],
      "metadata": {
        "id": "xA5rU66K3Jag"
      },
      "execution_count": null,
      "outputs": []
    },
    {
      "cell_type": "code",
      "execution_count": null,
      "metadata": {
        "id": "BYA5_43VDI6b",
        "colab": {
          "base_uri": "https://localhost:8080/"
        },
        "outputId": "89d496cb-1e22-43d9-cac3-5f1725b9a2af"
      },
      "outputs": [
        {
          "output_type": "stream",
          "name": "stdout",
          "text": [
            "A 2D point with coordinates (7, 12)\n",
            "A 2D point with coordinates (-1, -2)\n"
          ]
        }
      ],
      "source": [
        "class Point2D:\n",
        "    \"\"\"\n",
        "    A point in 2D space\n",
        "    :param x: x coordinate\n",
        "    :param y: y coordinate\n",
        "    \"\"\"\n",
        "\n",
        "    def __init__(self, x: int, y: int) -> None:\n",
        "        # Создаём атрибуты и присваиваем им переданные значения координат\n",
        "        self.x = x\n",
        "        self.y = y\n",
        "\n",
        "    def __repr__(self) -> str:\n",
        "        return f\"Point2D({self.x}, {self.y})\"\n",
        "\n",
        "    def __str__(self) -> str:\n",
        "        return f\"A 2D point with coordinates ({self.x}, {self.y})\"\n",
        "\n",
        "    def __add__(self, other: Point2D) -> Point2D:\n",
        "        return Point2D(self.x + other.x, self.y + other.y)\n",
        "\n",
        "    def __sub__(self, other: Point2D) -> Point2D:\n",
        "        return Point2D(self.x - other.x, self.y - other.y)\n",
        "\n",
        "\n",
        "print(Point2D(3, 5) + Point2D(4, 7))\n",
        "print(Point2D(3, 5) - Point2D(4, 7))"
      ]
    },
    {
      "cell_type": "markdown",
      "metadata": {
        "id": "BcHy0-BNDI6c"
      },
      "source": [
        "У каждого из вышеописанных методов есть так же версия \"i\" в начале, отвечающая за операцию с присвоением (`__iadd__` &mdash; `+=`, `__isub__` &mdash; `-=`, etc.)\n",
        "\n",
        "В принципе, операции с присвоением будут работать и так, питон сам выведет их из обычных операций. Но на самом деле они не будут модифицировать объект in-place, а будут возвращать новый объект и присваивать его переменной:"
      ]
    },
    {
      "cell_type": "code",
      "execution_count": null,
      "metadata": {
        "colab": {
          "base_uri": "https://localhost:8080/"
        },
        "id": "eJHiiwi5DI6c",
        "outputId": "f78a3caf-9607-4d76-fe44-3abcca468f2f"
      },
      "outputs": [
        {
          "output_type": "stream",
          "name": "stdout",
          "text": [
            "133523531381344\n",
            "133523531376496\n",
            "A 2D point with coordinates (4, 4)\n"
          ]
        }
      ],
      "source": [
        "a = Point2D(3, 3)\n",
        "print(id(a))\n",
        "\n",
        "a += Point2D(1, 1)\n",
        "print(id(a))\n",
        "print(a)"
      ]
    },
    {
      "cell_type": "markdown",
      "metadata": {
        "id": "rBhIpwPCDI6c"
      },
      "source": [
        "В данном случае это скорее правильное поведение, но давайте для практики добавим в наш класс эти методы:"
      ]
    },
    {
      "cell_type": "code",
      "execution_count": null,
      "metadata": {
        "id": "8RkpFz-CDI6c"
      },
      "outputs": [],
      "source": [
        "class Point2D:\n",
        "    \"\"\"\n",
        "    A point in 2D space\n",
        "    :param x: x coordinate\n",
        "    :param y: y coordinate\n",
        "    \"\"\"\n",
        "\n",
        "    def __init__(self, x: int, y: int) -> None:\n",
        "        # Создаём атрибуты и присваиваем им переданные значения координат\n",
        "        self.x = x\n",
        "        self.y = y\n",
        "\n",
        "    def __repr__(self) -> str:\n",
        "        return f\"Point2D({self.x}, {self.y})\"\n",
        "\n",
        "    def __str__(self) -> str:\n",
        "        return f\"A 2D point with coordinates ({self.x}, {self.y})\"\n",
        "\n",
        "    def __add__(self, other: Point2D) -> Point2D:\n",
        "        return Point2D(self.x + other.x, self.y + other.y)\n",
        "\n",
        "    def __sub__(self, other: Point2D) -> Point2D:\n",
        "        return Point2D(self.x - other.x, self.y - other.y)\n",
        "\n",
        "    def __iadd__(self, other: Point2D) -> Point2D:\n",
        "        self.x += other.x\n",
        "        self.y += other.y\n",
        "        return self\n",
        "\n",
        "    def __isub__(self, other: Point2D) -> Point2D:\n",
        "        self.x -= other.x\n",
        "        self.y -= other.y\n",
        "        return self"
      ]
    },
    {
      "cell_type": "code",
      "execution_count": null,
      "metadata": {
        "colab": {
          "base_uri": "https://localhost:8080/"
        },
        "id": "JcPagzzgDI6c",
        "outputId": "2763c3c5-8cda-4725-be87-b69bdf5d2ae5"
      },
      "outputs": [
        {
          "output_type": "stream",
          "name": "stdout",
          "text": [
            "133523531373664\n",
            "133523531373664\n",
            "A 2D point with coordinates (5, 5)\n",
            "133523531373664\n",
            "A 2D point with coordinates (7, 7)\n"
          ]
        }
      ],
      "source": [
        "a = Point2D(3, 3)\n",
        "print(id(a))\n",
        "\n",
        "a += Point2D(2, 2)\n",
        "print(id(a))\n",
        "print(a)\n",
        "\n",
        "a += Point2D(2, 2)\n",
        "print(id(a))\n",
        "print(a)"
      ]
    },
    {
      "cell_type": "markdown",
      "metadata": {
        "id": "jqf5IscXDI6d"
      },
      "source": [
        "Теперь при использовании `+=` мы остаёмся с тем же объектом."
      ]
    },
    {
      "cell_type": "markdown",
      "metadata": {
        "id": "B6DWpUovDI6d"
      },
      "source": [
        "### \\_\\_eq\\_\\_, \\_\\_ne\\_\\_, \\_\\_lt\\_\\_, \\_\\_le\\_\\_, \\_\\_gt\\_\\_, \\_\\_ge\\_\\_,  [(Документация)](https://docs.python.org/3/reference/datamodel.html#object.__lt__)\n",
        "\n",
        "По умолчанию объекты классов в питоне не имеют порядка и сравниваются на равенство при помощи `is`.\n",
        "Таким образом, две точки будут равны друг другу только тогда когда они представляют один и тот же объект в памяти:"
      ]
    },
    {
      "cell_type": "code",
      "execution_count": null,
      "metadata": {
        "id": "47czREhWDI6d",
        "outputId": "6a6a3d63-ca5a-47b1-ad5b-d9798c836439",
        "colab": {
          "base_uri": "https://localhost:8080/"
        }
      },
      "outputs": [
        {
          "output_type": "execute_result",
          "data": {
            "text/plain": [
              "(False, True)"
            ]
          },
          "metadata": {},
          "execution_count": 77
        }
      ],
      "source": [
        "a = Point2D(1, 1)\n",
        "b = Point2D(1, 1)\n",
        "\n",
        "a == b, a == a"
      ]
    },
    {
      "cell_type": "markdown",
      "metadata": {
        "id": "cQZaiz_fDI6d"
      },
      "source": [
        "Методы `__eq__`, `__ne__`, `__lt__`, `__le__`, `__gt__`, `__ge__` позволяют задать правила сравнения для объектов класса.\n",
        "\n",
        "Давайте научим наши точки сравниваться:"
      ]
    },
    {
      "cell_type": "code",
      "execution_count": null,
      "metadata": {
        "id": "NwaGlmg2DI6d"
      },
      "outputs": [],
      "source": [
        "class Point2D:\n",
        "    \"\"\"\n",
        "    A point in 2D space\n",
        "    :param x: x coordinate\n",
        "    :param y: y coordinate\n",
        "    \"\"\"\n",
        "\n",
        "    def __init__(self, x: int, y: int) -> None:\n",
        "        # Создаём атрибуты и присваиваем им переданные значения координат\n",
        "        self.x = x\n",
        "        self.y = y\n",
        "\n",
        "    def __repr__(self) -> str:\n",
        "        return f\"Point2D({self.x}, {self.y})\"\n",
        "\n",
        "    def __str__(self) -> str:\n",
        "        return f\"A 2D point with coordinates ({self.x}, {self.y})\"\n",
        "\n",
        "    def __add__(self, other: Point2D) -> Point2D:\n",
        "        return Point2D(self.x + other.x, self.y + other.y)\n",
        "\n",
        "    def __sub__(self, other: Point2D) -> Point2D:\n",
        "        return Point2D(self.x - other.x, self.y - other.y)\n",
        "\n",
        "    def __iadd__(self, other: Point2D) -> Point2D:\n",
        "        self.x += other.x\n",
        "        self.y += other.y\n",
        "        return self\n",
        "\n",
        "    def __isub__(self, other: Point2D) -> Point2D:\n",
        "        self.x -= other.x\n",
        "        self.y -= other.y\n",
        "        return self\n",
        "\n",
        "    def __eq__(self, other: Point2D) -> Point2D:\n",
        "        return self.x == other.x and self.y == other.y\n",
        "\n",
        "    # def __del__(self):\n",
        "    #     print(\"delete\", end=\" \")\n",
        "    #     print(self)\n",
        "\n",
        "\n"
      ]
    },
    {
      "cell_type": "code",
      "source": [
        "# p = Point2D(1, 1)\n",
        "# del p"
      ],
      "metadata": {
        "id": "kLIPz8-lbVp1"
      },
      "execution_count": null,
      "outputs": []
    },
    {
      "cell_type": "code",
      "source": [
        "print(Point2D(1, 1) == Point2D(1, 1))\n",
        "print(Point2D(1, 1) != Point2D(1, 1))\n",
        "print(Point2D(1, 1) == Point2D(1, 2))\n",
        "print(Point2D(1, 1) != Point2D(1, 2))\n",
        "\n",
        "# p = Point2D(1, 1)\n",
        "# del p"
      ],
      "metadata": {
        "colab": {
          "base_uri": "https://localhost:8080/"
        },
        "id": "BoCVyQpmahJQ",
        "outputId": "a6027d78-74a4-490d-a5e2-5d721f63d971"
      },
      "execution_count": null,
      "outputs": [
        {
          "output_type": "stream",
          "name": "stdout",
          "text": [
            "True\n",
            "False\n",
            "False\n",
            "True\n"
          ]
        }
      ]
    },
    {
      "cell_type": "markdown",
      "metadata": {
        "id": "I1pqo2nLDI6e"
      },
      "source": [
        "Обратите внимание, что когда мы определили `__eq__` (==) для сравнения, `__ne__` (!=) вывелся автоматически. Однако, это исключение. Если мы, например, определим ещё и `__gt__` (>), операция `__le__` (<=) сама не выведется.\n",
        "\n",
        "**NB**: Если вам хочется написать одну операцию, чтобы остальные вывелись автоматически, используйте декоратор [`functools.total_ordering`](https://docs.python.org/3/library/functools.html#functools.total_ordering)\n",
        "\n",
        "\n"
      ]
    },
    {
      "cell_type": "markdown",
      "metadata": {
        "id": "6jWMexRKDI6e"
      },
      "source": [
        "Кроме описанных в питоне есть ещё великое множество магических методов, которые способны осуществить примерно любое поведение, которое вы видели в питоне. Все их можно посмотреть [в документации](https://docs.python.org/3/reference/datamodel.html#special-method-names) или нагуглить.\n",
        "\n",
        "Из полезных можно отметить:\n",
        "* `__new__` и `__del__` &mdash; создание и удаление объекта.\n",
        "* `__len__` &mdash; возвращение длины объекта (например, контейнера). Используется функцией `len`.\n",
        "* `__getitem__`, `__setitem__` &mdash; индексация квадратными скобками.\n",
        "* `__getattr__`, `__setattr__` &mdash; обращение к атрибутам по точке.\n",
        "* `__iter__` &mdash; возвращает итератор, проходящий по объекту. Используется, например, for.\n",
        "* `__next__` &mdash; возвращает следующее состояние итератора\n",
        "* `__nonzero__` &mdash; определяет поведение функции `bool` на объекте.\n",
        "* `__contains__` &mdash; определяет поведение оператора `in` (полезно для контейнеров)\n",
        "* `__call__` &mdash; вызывается, когда объект класса вызывается со скобками (как функция). Позволяет сделать объекты класса callable.\n",
        "* `__copy__`, `__deepcopy__` &mdash; определяют, как объект класса копируется."
      ]
    },
    {
      "cell_type": "markdown",
      "metadata": {
        "id": "kQrOYapCDI6e"
      },
      "source": [
        "## Копирование\n",
        "Переменные в питоне всегда хранят ссылку на объект.  Если мы присвоим объект нашего класса двум разным переменным, они обе будут хранить один и тот же объект и \"меняться\" вместе:"
      ]
    },
    {
      "cell_type": "code",
      "source": [
        "a = Point2D(3, 4)\n",
        "print(a)"
      ],
      "metadata": {
        "colab": {
          "base_uri": "https://localhost:8080/"
        },
        "id": "fj-Ep0Ed7kig",
        "outputId": "bb1df7cd-1676-411f-d04e-03bb1581290a"
      },
      "execution_count": null,
      "outputs": [
        {
          "output_type": "stream",
          "name": "stdout",
          "text": [
            "A 2D point with coordinates (3, 4)\n"
          ]
        }
      ]
    },
    {
      "cell_type": "code",
      "source": [
        "b = a\n",
        "b.x = -1"
      ],
      "metadata": {
        "id": "1aKBZtU-7nPZ"
      },
      "execution_count": null,
      "outputs": []
    },
    {
      "cell_type": "code",
      "source": [
        "print(a)"
      ],
      "metadata": {
        "colab": {
          "base_uri": "https://localhost:8080/"
        },
        "id": "duet7kSS7pDC",
        "outputId": "655f7756-33b7-4d55-f6bb-9c914cfc60d8"
      },
      "execution_count": null,
      "outputs": [
        {
          "output_type": "stream",
          "name": "stdout",
          "text": [
            "A 2D point with coordinates (-1, 4)\n"
          ]
        }
      ]
    },
    {
      "cell_type": "code",
      "execution_count": null,
      "metadata": {
        "colab": {
          "base_uri": "https://localhost:8080/"
        },
        "id": "zxClRc39DI6e",
        "outputId": "365aa7bc-ee83-47ab-b5f8-a1c0b7adf3b2"
      },
      "outputs": [
        {
          "output_type": "stream",
          "name": "stdout",
          "text": [
            "133523531358720 133523531358720\n"
          ]
        }
      ],
      "source": [
        "print(id(a), id(b))"
      ]
    },
    {
      "cell_type": "markdown",
      "metadata": {
        "id": "OpdmkkM1DI6e"
      },
      "source": [
        "Мы поменяли значение в переменной `b`, но значение в `a` тоже поменялось, потому что они ссылаются на один и тот же объект.\n",
        "\n",
        "Чтобы избежать этого недоразумения в питоне существует модуль `copy` и соответствующая функция:"
      ]
    },
    {
      "cell_type": "code",
      "execution_count": null,
      "metadata": {
        "colab": {
          "base_uri": "https://localhost:8080/"
        },
        "id": "FHRLkZACDI6f",
        "outputId": "23afa303-53a0-4e4a-8902-0af99d09bc6c"
      },
      "outputs": [
        {
          "output_type": "stream",
          "name": "stdout",
          "text": [
            "A 2D point with coordinates (3, 4)\n",
            "A 2D point with coordinates (3, 4)\n",
            "A 2D point with coordinates (-1, 4)\n"
          ]
        }
      ],
      "source": [
        "import copy\n",
        "\n",
        "a = Point2D(3, 4)\n",
        "print(a)\n",
        "\n",
        "b = copy.copy(a)\n",
        "b.x = -1\n",
        "\n",
        "print(a)\n",
        "print(b)"
      ]
    },
    {
      "cell_type": "markdown",
      "metadata": {
        "id": "2hjToR63DI6g"
      },
      "source": [
        "Однако и это не спасёт нас, если в объекте нашего класса снова хранятся изменяемые переменные (например, списки). В таком случае нам понадобится функция `deepcopy`, которая полностью скопирует как сам объект класса, так и всё внутри него, по сути действуя рекурсивно.\n",
        "\n",
        "Продемонстрируем это на новом классе `Student`:"
      ]
    },
    {
      "cell_type": "code",
      "source": [
        "a = [1, [2], 3]\n",
        "b = copy.copy(a)\n"
      ],
      "metadata": {
        "id": "VmDV2AwLcjoV"
      },
      "execution_count": null,
      "outputs": []
    },
    {
      "cell_type": "code",
      "source": [
        "b[1][0] = 4\n",
        "a, b"
      ],
      "metadata": {
        "colab": {
          "base_uri": "https://localhost:8080/"
        },
        "id": "S0__Pt4Ecqse",
        "outputId": "26958585-c15a-4e26-c205-5fa0dcfdcc51"
      },
      "execution_count": null,
      "outputs": [
        {
          "output_type": "execute_result",
          "data": {
            "text/plain": [
              "([1, [4], 3], [1, [4], 3])"
            ]
          },
          "metadata": {},
          "execution_count": 99
        }
      ]
    },
    {
      "cell_type": "code",
      "execution_count": null,
      "metadata": {
        "id": "Gcw90je9DI6h"
      },
      "outputs": [],
      "source": [
        "import copy\n",
        "from typing import Iterable\n",
        "\n",
        "\n",
        "class Student:\n",
        "    \"\"\"\n",
        "    A class representing student along with his name and classes he/she takes\n",
        "    :param name: name of the student\n",
        "    :param classes: iterable of strings with names of classes\n",
        "    \"\"\"\n",
        "\n",
        "    def __init__(self, name: str, classes: Iterable[str]) -> None:\n",
        "        self.name = name\n",
        "        self.classes = classes\n",
        "\n",
        "    def __repr__(self) -> str:\n",
        "        return f\"Student({repr(self.name)}, {repr(self.classes)})\""
      ]
    },
    {
      "cell_type": "code",
      "source": [
        "student = Student(\"Ваня\", [\"Линал\", \"Алгосы\", \"Машинное обучение\"])\n",
        "student_deepcopy = copy.deepcopy(student)\n",
        "student_copy = copy.copy(student)\n",
        "student_naive = student\n",
        "\n",
        "# Распечатаем студента\n",
        "print(\"До изменений\")\n",
        "print(student)\n",
        "\n",
        "student_deepcopy.name = \"Катя\"\n",
        "student_deepcopy.classes[0] = \"Матан\"\n",
        "print(\"\\nИзменения в deepcopy\")\n",
        "print(f\"{student_deepcopy}\")\n",
        "print(f\"{student}\")\n",
        "\n",
        "student_copy.name = \"Лиза\"\n",
        "student_copy.classes[0] = \"Экономика\"\n",
        "print(\"\\nИзменения в copy\")\n",
        "print(f\"{student_copy}\")\n",
        "print(f\"{student}\")\n",
        "\n",
        "student_naive.name = \"Лёша\"\n",
        "student_naive.classes[0] = \"Алгебра\"\n",
        "print(\"\\nИзменения в простом присваивании\")\n",
        "print(f\"{student_naive}\")\n",
        "print(f\"{student}\")"
      ],
      "metadata": {
        "colab": {
          "base_uri": "https://localhost:8080/"
        },
        "id": "0wgQrXZdcR4c",
        "outputId": "53726582-f615-487e-a80f-36548c8d6e48"
      },
      "execution_count": null,
      "outputs": [
        {
          "output_type": "stream",
          "name": "stdout",
          "text": [
            "До изменений\n",
            "Student('Ваня', ['Линал', 'Алгосы', 'Машинное обучение'])\n",
            "\n",
            "Изменения в deepcopy\n",
            "Student('Катя', ['Матан', 'Алгосы', 'Машинное обучение'])\n",
            "Student('Ваня', ['Линал', 'Алгосы', 'Машинное обучение'])\n",
            "\n",
            "Изменения в copy\n",
            "Student('Лиза', ['Экономика', 'Алгосы', 'Машинное обучение'])\n",
            "Student('Ваня', ['Экономика', 'Алгосы', 'Машинное обучение'])\n",
            "\n",
            "Изменения в простом присваивании\n",
            "Student('Лёша', ['Алгебра', 'Алгосы', 'Машинное обучение'])\n",
            "Student('Лёша', ['Алгебра', 'Алгосы', 'Машинное обучение'])\n"
          ]
        }
      ]
    },
    {
      "cell_type": "markdown",
      "metadata": {
        "id": "qarYv69kDI6h"
      },
      "source": [
        "Как видим, если мы используем просто `copy`, имя студента действительно не меняется в изначальной переменной `student`, потому что соответствующий атрибут `name` был скопирован. А вот список дисциплин меняется, потому что `copy` скопировал в новый объект **ссылку** на этот список, и мы обращаемся к ней из обоих студентов. `deepcopy` позволяет избежать этой проблемы, потому что он создаст новый список."
      ]
    },
    {
      "cell_type": "markdown",
      "metadata": {
        "id": "vIG6mKzPDI6i"
      },
      "source": [
        "## getter, setter\n",
        "\n",
        "Иногда нам хочется, чтобы чтение или установка атрибута объекта сопровождались какой-нибудь логикой, будь то проверка или ещё что. Предположим, мы создаём класс градусника:"
      ]
    },
    {
      "cell_type": "code",
      "execution_count": null,
      "metadata": {
        "id": "RhYlU8aTDI6i"
      },
      "outputs": [],
      "source": [
        "class Thermometer:\n",
        "    \"\"\"\n",
        "    Thermometer containing temperature in Celsius\n",
        "    :param temperature: temperature to contain\n",
        "    \"\"\"\n",
        "\n",
        "    def __init__(self, temperature: float) -> None:\n",
        "        self.temperature = temperature"
      ]
    },
    {
      "cell_type": "markdown",
      "metadata": {
        "id": "K-AoC_qBDI6i"
      },
      "source": [
        "У такого класса есть проблема: мы можем присовить ему температуру ниже возможного минимума:"
      ]
    },
    {
      "cell_type": "code",
      "execution_count": null,
      "metadata": {
        "id": "o26v7yqcDI6i"
      },
      "outputs": [],
      "source": [
        "thermometer = Thermometer(10.0)\n",
        "thermometer.temperature = -100000.0"
      ]
    },
    {
      "cell_type": "code",
      "execution_count": null,
      "metadata": {
        "id": "D0L0UQuN7Vff"
      },
      "outputs": [],
      "source": [
        "del thermometer.temperature\n",
        "# thermometer.temperature"
      ]
    },
    {
      "cell_type": "markdown",
      "metadata": {
        "id": "AiqQN1AsDI6j"
      },
      "source": [
        "Мы могли бы решить эту проблему, добавив специальную функцию set_temperature, и сказав, что установка температуры должна происходить только через неё:"
      ]
    },
    {
      "cell_type": "code",
      "execution_count": null,
      "metadata": {
        "id": "QuXTv52-DI6j"
      },
      "outputs": [],
      "source": [
        "class Thermometer:\n",
        "    \"\"\"\n",
        "    Thermometer containing temperature in Celsius\n",
        "    :param temperature: temperature to contain\n",
        "    \"\"\"\n",
        "\n",
        "    MINIMAL_TEMPERATURE = -273.15\n",
        "\n",
        "    def __init__(self, temperature: float) -> None:\n",
        "        self.set_temperature(temperature)\n",
        "\n",
        "    def set_temperature(self, value: float) -> None:\n",
        "        if value < Thermometer.MINIMAL_TEMPERATURE:\n",
        "            raise ValueError(\n",
        "                f\"Temperature cannot be less than {Thermometer.MINIMAL_TEMPERATURE}\"\n",
        "            )\n",
        "        self.temperature = value"
      ]
    },
    {
      "cell_type": "code",
      "source": [
        "thermometer = Thermometer(10.0)\n",
        "thermometer.set_temperature(-100000.0)"
      ],
      "metadata": {
        "id": "9F-In8xrA9-L"
      },
      "execution_count": null,
      "outputs": []
    },
    {
      "cell_type": "code",
      "source": [
        "thermometer.temperature = -100000.0"
      ],
      "metadata": {
        "id": "lHhR2o16BvGA"
      },
      "execution_count": null,
      "outputs": []
    },
    {
      "cell_type": "markdown",
      "metadata": {
        "id": "lQuzjP4UDI6j"
      },
      "source": [
        "С таким решением, во-первых, мы теряем удобное присваивание по имени атрибута, а во-вторых, весь код, который до этого использовал temperature напрямую теперь будет работать неправильно. Чтобы избежать этих проблем в python есть декоратор `@property`: он позволяет превратить функцию в атрибут и определить поведение при установке и чтении атрибута:"
      ]
    },
    {
      "cell_type": "code",
      "source": [
        "class Thermometer:\n",
        "    \"\"\"\n",
        "    Thermometer containing temperature in Celsius\n",
        "    :param temperature: temperature to contain\n",
        "    \"\"\"\n",
        "\n",
        "    MINIMAL_TEMPERATURE = -273.15\n",
        "\n",
        "    def __init__(self, temperature: float) -> None:\n",
        "        self._temperature = temperature\n",
        "\n",
        "    @property\n",
        "    def temperature(self):\n",
        "        return self._temperature"
      ],
      "metadata": {
        "id": "0e58DU0sCNHf"
      },
      "execution_count": null,
      "outputs": []
    },
    {
      "cell_type": "code",
      "source": [
        "thermometer = Thermometer(10.0)\n",
        "thermometer.temperature\n",
        "# thermometer.temperature = 20.0"
      ],
      "metadata": {
        "colab": {
          "base_uri": "https://localhost:8080/"
        },
        "id": "79zYH3fHCWmO",
        "outputId": "44b650b3-f1f6-45b4-cfd0-b3720fb5cedb"
      },
      "execution_count": null,
      "outputs": [
        {
          "output_type": "execute_result",
          "data": {
            "text/plain": [
              "10.0"
            ]
          },
          "metadata": {},
          "execution_count": 123
        }
      ]
    },
    {
      "cell_type": "code",
      "source": [
        "class Thermometer:\n",
        "    \"\"\"\n",
        "    Thermometer containing temperature in Celsius\n",
        "    :param temperature: temperature to contain\n",
        "    \"\"\"\n",
        "\n",
        "    MINIMAL_TEMPERATURE = -273.15\n",
        "\n",
        "    def __init__(self, temperature: float) -> None:\n",
        "        self.temperature = temperature\n",
        "\n",
        "    @property\n",
        "    def temperature(self):\n",
        "        pass\n",
        "\n",
        "    @temperature.setter\n",
        "    def temperature(self, value: float) -> None:\n",
        "        if value < Thermometer.MINIMAL_TEMPERATURE:\n",
        "            raise ValueError(\n",
        "                f\"Temperature cannot be less than {Thermometer.MINIMAL_TEMPERATURE}\"\n",
        "            )\n",
        "        self._temperature = value"
      ],
      "metadata": {
        "id": "kpFF-s7TC9w3"
      },
      "execution_count": null,
      "outputs": []
    },
    {
      "cell_type": "code",
      "source": [
        "thermometer = Thermometer(10.0)\n",
        "thermometer.temperature"
      ],
      "metadata": {
        "id": "2XXw6PREDFC6"
      },
      "execution_count": null,
      "outputs": []
    },
    {
      "cell_type": "code",
      "source": [
        "thermometer.temperature = 20.0\n",
        "thermometer.temperature"
      ],
      "metadata": {
        "id": "9yEuFJCfDLOh"
      },
      "execution_count": null,
      "outputs": []
    },
    {
      "cell_type": "code",
      "execution_count": null,
      "metadata": {
        "id": "nd_OCxFJDI6j"
      },
      "outputs": [],
      "source": [
        "class Thermometer:\n",
        "    \"\"\"\n",
        "    Thermometer containing temperature in Celsius\n",
        "    :param temperature: temperature to contain\n",
        "    \"\"\"\n",
        "\n",
        "    MINIMAL_TEMPERATURE = -273.15\n",
        "\n",
        "    def __init__(self, temperature: float) -> None:\n",
        "        self.temperature = temperature\n",
        "\n",
        "    @property\n",
        "    def temperature(self):\n",
        "        pass\n",
        "\n",
        "    @temperature.setter\n",
        "    def temperature(self, value: float) -> None:\n",
        "        if value < Thermometer.MINIMAL_TEMPERATURE:\n",
        "            raise ValueError(\n",
        "                f\"Temperature cannot be less than {Thermometer.MINIMAL_TEMPERATURE}\"\n",
        "            )\n",
        "        self._temperature = value\n",
        "\n",
        "    @temperature.deleter\n",
        "    def temperature(self):\n",
        "        pass\n",
        "\n",
        "    @temperature.getter\n",
        "    def temperature(self) -> float:\n",
        "        return self._temperature * 2"
      ]
    },
    {
      "cell_type": "code",
      "source": [
        "thermometer = Thermometer(10.0)\n",
        "thermometer.temperature = 20\n",
        "print(thermometer.temperature)\n",
        "del thermometer.temperature\n",
        "print(thermometer.temperature)"
      ],
      "metadata": {
        "colab": {
          "base_uri": "https://localhost:8080/"
        },
        "id": "OiYq-9AqCBsJ",
        "outputId": "d596e928-3e6b-43e8-f902-f510046317b7"
      },
      "execution_count": null,
      "outputs": [
        {
          "output_type": "stream",
          "name": "stdout",
          "text": [
            "40\n",
            "40\n"
          ]
        }
      ]
    },
    {
      "cell_type": "markdown",
      "metadata": {
        "id": "veHOi3aoDI6j"
      },
      "source": [
        "Разберёмся, как это работает. Во-первых, теперь мы будем хранить нашу реальную температуру в переменной `self._temperature`.\n",
        "Обращение к этой переменной не будет влечь за собой никакой другой логики, но присваивать ей температуру мы будем только внутри класса, а пользователь снаружи не будет о ней ничего знать и не должен к ней обращаться.\n",
        "\n",
        "**NB:** Подчёркивание в начале названия атрибута или метода &mdash; это стандартное в питоне обозначение части внутреннего интерфейса класса. Разработчик не обещает, что этот интерфейс не будет меняться в будущих версиях, и пользователь не должен его использовать. Причём сам питон никак не запрещает обращаться к таким атрибутам и методам, просто программисты соблюдают некоторое джентльменское соглашение (цитата из документации)\n",
        "\n",
        "Сначала мы создаём функцию с названием нашего атрибута (в нашем случае `def temperature`) с декоратором `@property` и в ней возвращаем наше реальное значение температуры (`return self._temperature`). Теперь, когда мы будем обращаться к `thermometer.temperature` будет вызываться эта функция.\n",
        "\n",
        "Затем мы создаём ещё одну функцию с тем же названием, но теперь с декоратором `@temperature.setter`, в которой проверяем наше условие и присваиваем новое значение нашей внутренней переменной `self._temperature`. Эта функция будет вызываться, когда мы будем присваивать значение `thermometer.temperature`."
      ]
    }
  ],
  "metadata": {
    "colab": {
      "provenance": [],
      "include_colab_link": true
    },
    "kernelspec": {
      "display_name": "Python 3 (ipykernel)",
      "language": "python",
      "name": "python3"
    },
    "language_info": {
      "codemirror_mode": {
        "name": "ipython",
        "version": 3
      },
      "file_extension": ".py",
      "mimetype": "text/x-python",
      "name": "python",
      "nbconvert_exporter": "python",
      "pygments_lexer": "ipython3",
      "version": "3.7.9"
    },
    "toc": {
      "base_numbering": 1,
      "nav_menu": {},
      "number_sections": true,
      "sideBar": true,
      "skip_h1_title": false,
      "title_cell": "Table of Contents",
      "title_sidebar": "Contents",
      "toc_cell": false,
      "toc_position": {},
      "toc_section_display": true,
      "toc_window_display": true
    },
    "varInspector": {
      "cols": {
        "lenName": 16,
        "lenType": 16,
        "lenVar": 40
      },
      "kernels_config": {
        "python": {
          "delete_cmd_postfix": "",
          "delete_cmd_prefix": "del ",
          "library": "var_list.py",
          "varRefreshCmd": "print(var_dic_list())"
        },
        "r": {
          "delete_cmd_postfix": ") ",
          "delete_cmd_prefix": "rm(",
          "library": "var_list.r",
          "varRefreshCmd": "cat(var_dic_list()) "
        }
      },
      "types_to_exclude": [
        "module",
        "function",
        "builtin_function_or_method",
        "instance",
        "_Feature"
      ],
      "window_display": false
    }
  },
  "nbformat": 4,
  "nbformat_minor": 0
}