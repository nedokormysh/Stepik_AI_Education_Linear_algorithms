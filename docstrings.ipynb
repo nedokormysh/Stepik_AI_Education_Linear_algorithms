{
  "cells": [
    {
      "cell_type": "markdown",
      "metadata": {
        "id": "view-in-github",
        "colab_type": "text"
      },
      "source": [
        "<a href=\"https://colab.research.google.com/github/nedokormysh/Stepik_AI_Education_Linear_algorithms/blob/week_3/docstrings.ipynb\" target=\"_parent\"><img src=\"https://colab.research.google.com/assets/colab-badge.svg\" alt=\"Open In Colab\"/></a>"
      ]
    },
    {
      "cell_type": "markdown",
      "source": [
        "# Docstrings"
      ],
      "metadata": {
        "id": "AwrBpoKYuwCn"
      }
    },
    {
      "cell_type": "markdown",
      "metadata": {
        "id": "57byHXhMDI6V"
      },
      "source": [
        "Docstring - это такая строковая переменная, которая идет сразу за объявлением модуля, функции, класса, метода. Таким образом питон предоставляет удобный способ добавления документации. Существует много средств для автоматического генерирования документации, которые используют докстринг.\n",
        "\n",
        "Докстринг очень похож на комментарий, но заключается в тройные кавычки. Все функции должны иметь докстринг, который содержит описание работы этой функции. Комментарии же обычно пытаются объяснить эту работу."
      ]
    },
    {
      "cell_type": "markdown",
      "source": [
        "## Примеры"
      ],
      "metadata": {
        "id": "bA7we9cJgok6"
      }
    },
    {
      "cell_type": "code",
      "source": [
        "def func(a, b, c):\n",
        "    \"\"\"\n",
        "    Эта функция содержит многострочный докстринг.\n",
        "\n",
        "    В многострочном докстринге первое предложение\n",
        "    кратко описывает работу функции. Следующий\n",
        "    за ним текст пишется через пустую строку.\n",
        "    \"\"\"\n",
        "    ..."
      ],
      "metadata": {
        "id": "JFEZ-yIGgqmb"
      },
      "execution_count": null,
      "outputs": []
    },
    {
      "cell_type": "code",
      "source": [
        "class SimpleClass(object):\n",
        "    \"\"\"Это класс с докстрингом.\"\"\"\n",
        "\n",
        "    def method_of_class(self):\n",
        "      \"\"\"А это метод с однострочным докстрингом\"\"\""
      ],
      "metadata": {
        "id": "vgP2Z-ONg5Ps"
      },
      "execution_count": null,
      "outputs": []
    },
    {
      "cell_type": "markdown",
      "source": [
        "Результат работы"
      ],
      "metadata": {
        "id": "exuh4D1NhIyW"
      }
    },
    {
      "cell_type": "code",
      "source": [
        "def show_docstring():\n",
        "    \"\"\"Print function description to user\"\"\"\n",
        "    print(\"Using __doc__ method:\")\n",
        "    print(show_docstring.__doc__)\n",
        "\n",
        "show_docstring()"
      ],
      "metadata": {
        "colab": {
          "base_uri": "https://localhost:8080/"
        },
        "id": "q_gVvX5WhaUo",
        "outputId": "b9d124e4-6a77-4656-f333-7c1f137dec75"
      },
      "execution_count": null,
      "outputs": [
        {
          "output_type": "stream",
          "name": "stdout",
          "text": [
            "Using __doc__ method:\n",
            "Print function description to user\n"
          ]
        }
      ]
    },
    {
      "cell_type": "code",
      "source": [
        "print(\"Using help() function:\")\n",
        "help(show_docstring)"
      ],
      "metadata": {
        "colab": {
          "base_uri": "https://localhost:8080/"
        },
        "id": "8hqSyrxMhey1",
        "outputId": "3fad09ab-0f32-4cac-88a7-805993923a1d"
      },
      "execution_count": null,
      "outputs": [
        {
          "output_type": "stream",
          "name": "stdout",
          "text": [
            "Using help() function:\n",
            "Help on function show_docstring in module __main__:\n",
            "\n",
            "show_docstring()\n",
            "    Print function description to user\n",
            "\n"
          ]
        }
      ]
    },
    {
      "cell_type": "markdown",
      "source": [
        "## Как правильно"
      ],
      "metadata": {
        "id": "ExEof3U6h0Lg"
      }
    },
    {
      "cell_type": "markdown",
      "source": [
        "* Все модули, классы, методы и функции, включая конструктор `__init__` в пакетах, должны иметь строки документации\n",
        "* Описания пишутся с заглавной буквы и включают пунктуацию в конце предложения\n",
        "* Всегда окружайте строки документации двойными кавычками по три раза\n",
        "* В конце докстринга пустая строка не ставится."
      ],
      "metadata": {
        "id": "WJz9HanNh51w"
      }
    },
    {
      "cell_type": "markdown",
      "source": [
        "## Однострочный"
      ],
      "metadata": {
        "id": "DXd5oPqAi5oa"
      }
    },
    {
      "cell_type": "markdown",
      "source": [
        "* Однострочный докстринг прописывает функцию или действие метода как команду, а не как описание функции:  \n",
        "\"\"\"Do this, return that\"\"\"\n",
        "\n",
        "\n",
        "* Однострочный докстринг не является “подписью” function(a, b) -> list , повторяющей параметры функции/метода"
      ],
      "metadata": {
        "id": "04D7VZh1jLo8"
      }
    },
    {
      "cell_type": "code",
      "source": [
        "def power(a, b):\n",
        "    \"\"\"Returns arg1 raised to power arg2.\"\"\"\n",
        "    return a**b"
      ],
      "metadata": {
        "id": "bX3eSEBwi9xg"
      },
      "execution_count": null,
      "outputs": []
    },
    {
      "cell_type": "markdown",
      "source": [
        "## Многострочный"
      ],
      "metadata": {
        "id": "R5OOlhWyi-PP"
      }
    },
    {
      "cell_type": "markdown",
      "source": [
        "Многострочные докстринги содержат те же строковые литералы, что и однострочные, но здесь также присутствует описание параметров функции и возвращаемых значений, которое отделено от строки-команды пустой строкой."
      ],
      "metadata": {
        "id": "qth1iLBwjXKp"
      }
    },
    {
      "cell_type": "code",
      "source": [
        "def suggest_places(auth_key, city):\n",
        "  \"\"\"Returns longitude and latitude of first suggested location in the Netherlands from Postcode API.\n",
        "\n",
        "  :param auth_key: authorization key for Postcode API\n",
        "  :type auth_key: str\n",
        "  :param city: textual input for city names to match in Postcode API\n",
        "  :type city: str\n",
        "\n",
        "  :rtype: (str, str), str, str\n",
        "  :return: (longitude, latitude), Postcode API status code, Postcode API error message\n",
        "  \"\"\"\n",
        "  ..."
      ],
      "metadata": {
        "id": "ij7t3cMojAMm"
      },
      "execution_count": null,
      "outputs": []
    },
    {
      "cell_type": "markdown",
      "source": [
        "## Лучшие практики"
      ],
      "metadata": {
        "id": "_hPberrqjhWD"
      }
    },
    {
      "cell_type": "markdown",
      "source": [
        "* [Sphinx](https://sphinx-rtd-tutorial.readthedocs.io/en/latest/docstrings.html)\n",
        "* [Google Format](https://www.sphinx-doc.org/en/master/usage/extensions/example_google.html)\n",
        "* [NumPy Format](https://www.sphinx-doc.org/en/master/usage/extensions/example_numpy.html#example-numpy)"
      ],
      "metadata": {
        "id": "PYhPf10YjltI"
      }
    }
  ],
  "metadata": {
    "colab": {
      "provenance": [],
      "include_colab_link": true
    },
    "kernelspec": {
      "display_name": "Python 3 (ipykernel)",
      "language": "python",
      "name": "python3"
    },
    "language_info": {
      "codemirror_mode": {
        "name": "ipython",
        "version": 3
      },
      "file_extension": ".py",
      "mimetype": "text/x-python",
      "name": "python",
      "nbconvert_exporter": "python",
      "pygments_lexer": "ipython3",
      "version": "3.7.9"
    },
    "toc": {
      "base_numbering": 1,
      "nav_menu": {},
      "number_sections": true,
      "sideBar": true,
      "skip_h1_title": false,
      "title_cell": "Table of Contents",
      "title_sidebar": "Contents",
      "toc_cell": false,
      "toc_position": {},
      "toc_section_display": true,
      "toc_window_display": true
    },
    "varInspector": {
      "cols": {
        "lenName": 16,
        "lenType": 16,
        "lenVar": 40
      },
      "kernels_config": {
        "python": {
          "delete_cmd_postfix": "",
          "delete_cmd_prefix": "del ",
          "library": "var_list.py",
          "varRefreshCmd": "print(var_dic_list())"
        },
        "r": {
          "delete_cmd_postfix": ") ",
          "delete_cmd_prefix": "rm(",
          "library": "var_list.r",
          "varRefreshCmd": "cat(var_dic_list()) "
        }
      },
      "types_to_exclude": [
        "module",
        "function",
        "builtin_function_or_method",
        "instance",
        "_Feature"
      ],
      "window_display": false
    }
  },
  "nbformat": 4,
  "nbformat_minor": 0
}