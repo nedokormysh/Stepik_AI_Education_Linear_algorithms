{
  "cells": [
    {
      "cell_type": "markdown",
      "metadata": {
        "id": "view-in-github",
        "colab_type": "text"
      },
      "source": [
        "<a href=\"https://colab.research.google.com/github/nedokormysh/Stepik_AI_Education_Linear_algorithms/blob/week_2/linear_regression.ipynb\" target=\"_parent\"><img src=\"https://colab.research.google.com/assets/colab-badge.svg\" alt=\"Open In Colab\"/></a>"
      ]
    },
    {
      "cell_type": "markdown",
      "source": [
        "# Линейная регрессия. Начало."
      ],
      "metadata": {
        "id": "bXEnJNJy69Sb"
      },
      "id": "bXEnJNJy69Sb"
    },
    {
      "cell_type": "markdown",
      "id": "acc5a9b0",
      "metadata": {
        "id": "acc5a9b0"
      },
      "source": [
        "## План"
      ]
    },
    {
      "cell_type": "markdown",
      "source": [
        "- Функционалы и метрики\n",
        "- Линейная регресиия: точное vs приближенное решение\n",
        "- Интерпретация прогнозов"
      ],
      "metadata": {
        "id": "aky0TbTr6TPF"
      },
      "id": "aky0TbTr6TPF"
    },
    {
      "cell_type": "markdown",
      "source": [
        "## Функционалы и метрики"
      ],
      "metadata": {
        "id": "gyNPp5Pt6QsT"
      },
      "id": "gyNPp5Pt6QsT"
    },
    {
      "cell_type": "markdown",
      "id": "f9e5ed40",
      "metadata": {
        "id": "f9e5ed40"
      },
      "source": [
        "* Функционал (или функция потерь == loss function)  - это функция, позволяющая обучить модель (то есть то, что мы стараемся оптимизировать, подбирая параметры модели - в случае линейной регрессии параметры - это веса)\n",
        "\n",
        "* Метрика - это оценка качества модели, которую можно использовать к любым моделям (позволяет ответить на вопрос, насколько точно модель может предсказывать целевую переменную)\n",
        "\n",
        "Пример:\n",
        "\n",
        "чтобы обучить линейную регрессию мы можем минизировать функционал MSE\n",
        "\n",
        "Если мы имеем n наблюдений и k признаков\n",
        "\n",
        "$$\\Sigma_{i=0}^{n}(\\hat y_{i} - y_{i})^{2} \\rightarrow min_{w}$$\n",
        "\n",
        "где $$\\hat y_{i} = \\Sigma_{i=0}^{k}w_{k}x_{ik}$$\n",
        "\n",
        "А как метрику можем использовать RMSE\n",
        "\n",
        "$$RMSE = \\sqrt{\\Sigma_{i=0}^{n}(\\hat y_{i} - y_{i})^{2}}$$\n",
        "\n",
        "Фундаментальное различие функционала и метрик в том, что метрика должна отражать нашу бизнес-задачу или научный вопрос, а функционал должен быть подобран так, чтобы он лучше лучше всего помогал достичь цель (позволял достичь наилучшных показателей метрики или метрик)\n",
        "\n",
        "Аналогия из обучения:\n",
        "\n",
        "*  Чтобы сдать математику, мы можем учить производные различных функций, то есть тогда наш функционал - это количество производных, которые мы знаем. А метрикой того, что мы сдали математику будет являться оценка, полученная в конце курса.\n",
        "\n",
        "*  Оценка в курсе - это понятная метрика, которую нам дал мир. А является ли зубрежка производных лучшим функционалом для достижения поставленной цели решать уже вам, как исследователям\n",
        "\n",
        "И еще, хотя функционал и метрики - это разные по смыслу и использованию инструменты, они могут быть считаться одинаково (то есть к примеру обучать линейную регрессию можно обучать с помощью функционала MSE, и проверять качество тоже можно с помощью MSE)"
      ]
    },
    {
      "cell_type": "code",
      "execution_count": null,
      "id": "bf0cd6af",
      "metadata": {
        "ExecuteTime": {
          "end_time": "2021-09-20T20:03:51.857595Z",
          "start_time": "2021-09-20T20:03:51.853794Z"
        },
        "id": "bf0cd6af"
      },
      "outputs": [],
      "source": [
        "import pandas as pd\n",
        "import numpy as np\n",
        "import sklearn\n",
        "from sklearn.linear_model import SGDRegressor\n",
        "\n",
        "from sklearn.datasets import fetch_california_housing"
      ]
    },
    {
      "cell_type": "code",
      "source": [
        "RANDOM_STATE = 42"
      ],
      "metadata": {
        "id": "QFvlJ_85TCJq"
      },
      "id": "QFvlJ_85TCJq",
      "execution_count": null,
      "outputs": []
    },
    {
      "cell_type": "code",
      "execution_count": null,
      "id": "479241c9",
      "metadata": {
        "ExecuteTime": {
          "end_time": "2021-09-20T20:03:51.868197Z",
          "start_time": "2021-09-20T20:03:51.860440Z"
        },
        "id": "479241c9"
      },
      "outputs": [],
      "source": [
        "np.random.seed(42) # фиксировали случайность"
      ]
    },
    {
      "cell_type": "code",
      "execution_count": null,
      "id": "d6afdc27",
      "metadata": {
        "ExecuteTime": {
          "end_time": "2021-09-20T20:03:51.891504Z",
          "start_time": "2021-09-20T20:03:51.889057Z"
        },
        "id": "d6afdc27"
      },
      "outputs": [],
      "source": [
        "import warnings\n",
        "warnings.filterwarnings('ignore')"
      ]
    },
    {
      "cell_type": "code",
      "execution_count": null,
      "id": "818d9dff",
      "metadata": {
        "ExecuteTime": {
          "end_time": "2021-09-20T20:03:51.921761Z",
          "start_time": "2021-09-20T20:03:51.893244Z"
        },
        "id": "818d9dff"
      },
      "outputs": [],
      "source": [
        "X, y = fetch_california_housing(return_X_y=True, as_frame=True)"
      ]
    },
    {
      "cell_type": "code",
      "execution_count": null,
      "id": "705ca49c",
      "metadata": {
        "ExecuteTime": {
          "end_time": "2021-09-20T20:03:51.942848Z",
          "start_time": "2021-09-20T20:03:51.923438Z"
        },
        "id": "705ca49c",
        "colab": {
          "base_uri": "https://localhost:8080/",
          "height": 206
        },
        "outputId": "b152dd1b-6d1f-49a4-8524-b719a063c0c7"
      },
      "outputs": [
        {
          "output_type": "execute_result",
          "data": {
            "text/plain": [
              "   MedInc  HouseAge  AveRooms  AveBedrms  Population  AveOccup  Latitude  \\\n",
              "0  8.3252      41.0  6.984127   1.023810       322.0  2.555556     37.88   \n",
              "1  8.3014      21.0  6.238137   0.971880      2401.0  2.109842     37.86   \n",
              "2  7.2574      52.0  8.288136   1.073446       496.0  2.802260     37.85   \n",
              "3  5.6431      52.0  5.817352   1.073059       558.0  2.547945     37.85   \n",
              "4  3.8462      52.0  6.281853   1.081081       565.0  2.181467     37.85   \n",
              "\n",
              "   Longitude  \n",
              "0    -122.23  \n",
              "1    -122.22  \n",
              "2    -122.24  \n",
              "3    -122.25  \n",
              "4    -122.25  "
            ],
            "text/html": [
              "\n",
              "\n",
              "  <div id=\"df-8d83b258-830e-4532-9c71-e61b06b1a4dd\">\n",
              "    <div class=\"colab-df-container\">\n",
              "      <div>\n",
              "<style scoped>\n",
              "    .dataframe tbody tr th:only-of-type {\n",
              "        vertical-align: middle;\n",
              "    }\n",
              "\n",
              "    .dataframe tbody tr th {\n",
              "        vertical-align: top;\n",
              "    }\n",
              "\n",
              "    .dataframe thead th {\n",
              "        text-align: right;\n",
              "    }\n",
              "</style>\n",
              "<table border=\"1\" class=\"dataframe\">\n",
              "  <thead>\n",
              "    <tr style=\"text-align: right;\">\n",
              "      <th></th>\n",
              "      <th>MedInc</th>\n",
              "      <th>HouseAge</th>\n",
              "      <th>AveRooms</th>\n",
              "      <th>AveBedrms</th>\n",
              "      <th>Population</th>\n",
              "      <th>AveOccup</th>\n",
              "      <th>Latitude</th>\n",
              "      <th>Longitude</th>\n",
              "    </tr>\n",
              "  </thead>\n",
              "  <tbody>\n",
              "    <tr>\n",
              "      <th>0</th>\n",
              "      <td>8.3252</td>\n",
              "      <td>41.0</td>\n",
              "      <td>6.984127</td>\n",
              "      <td>1.023810</td>\n",
              "      <td>322.0</td>\n",
              "      <td>2.555556</td>\n",
              "      <td>37.88</td>\n",
              "      <td>-122.23</td>\n",
              "    </tr>\n",
              "    <tr>\n",
              "      <th>1</th>\n",
              "      <td>8.3014</td>\n",
              "      <td>21.0</td>\n",
              "      <td>6.238137</td>\n",
              "      <td>0.971880</td>\n",
              "      <td>2401.0</td>\n",
              "      <td>2.109842</td>\n",
              "      <td>37.86</td>\n",
              "      <td>-122.22</td>\n",
              "    </tr>\n",
              "    <tr>\n",
              "      <th>2</th>\n",
              "      <td>7.2574</td>\n",
              "      <td>52.0</td>\n",
              "      <td>8.288136</td>\n",
              "      <td>1.073446</td>\n",
              "      <td>496.0</td>\n",
              "      <td>2.802260</td>\n",
              "      <td>37.85</td>\n",
              "      <td>-122.24</td>\n",
              "    </tr>\n",
              "    <tr>\n",
              "      <th>3</th>\n",
              "      <td>5.6431</td>\n",
              "      <td>52.0</td>\n",
              "      <td>5.817352</td>\n",
              "      <td>1.073059</td>\n",
              "      <td>558.0</td>\n",
              "      <td>2.547945</td>\n",
              "      <td>37.85</td>\n",
              "      <td>-122.25</td>\n",
              "    </tr>\n",
              "    <tr>\n",
              "      <th>4</th>\n",
              "      <td>3.8462</td>\n",
              "      <td>52.0</td>\n",
              "      <td>6.281853</td>\n",
              "      <td>1.081081</td>\n",
              "      <td>565.0</td>\n",
              "      <td>2.181467</td>\n",
              "      <td>37.85</td>\n",
              "      <td>-122.25</td>\n",
              "    </tr>\n",
              "  </tbody>\n",
              "</table>\n",
              "</div>\n",
              "      <button class=\"colab-df-convert\" onclick=\"convertToInteractive('df-8d83b258-830e-4532-9c71-e61b06b1a4dd')\"\n",
              "              title=\"Convert this dataframe to an interactive table.\"\n",
              "              style=\"display:none;\">\n",
              "\n",
              "  <svg xmlns=\"http://www.w3.org/2000/svg\" height=\"24px\"viewBox=\"0 0 24 24\"\n",
              "       width=\"24px\">\n",
              "    <path d=\"M0 0h24v24H0V0z\" fill=\"none\"/>\n",
              "    <path d=\"M18.56 5.44l.94 2.06.94-2.06 2.06-.94-2.06-.94-.94-2.06-.94 2.06-2.06.94zm-11 1L8.5 8.5l.94-2.06 2.06-.94-2.06-.94L8.5 2.5l-.94 2.06-2.06.94zm10 10l.94 2.06.94-2.06 2.06-.94-2.06-.94-.94-2.06-.94 2.06-2.06.94z\"/><path d=\"M17.41 7.96l-1.37-1.37c-.4-.4-.92-.59-1.43-.59-.52 0-1.04.2-1.43.59L10.3 9.45l-7.72 7.72c-.78.78-.78 2.05 0 2.83L4 21.41c.39.39.9.59 1.41.59.51 0 1.02-.2 1.41-.59l7.78-7.78 2.81-2.81c.8-.78.8-2.07 0-2.86zM5.41 20L4 18.59l7.72-7.72 1.47 1.35L5.41 20z\"/>\n",
              "  </svg>\n",
              "      </button>\n",
              "\n",
              "\n",
              "\n",
              "    <div id=\"df-54b7977e-b5ca-42c1-8835-831e5c3ac861\">\n",
              "      <button class=\"colab-df-quickchart\" onclick=\"quickchart('df-54b7977e-b5ca-42c1-8835-831e5c3ac861')\"\n",
              "              title=\"Suggest charts.\"\n",
              "              style=\"display:none;\">\n",
              "\n",
              "<svg xmlns=\"http://www.w3.org/2000/svg\" height=\"24px\"viewBox=\"0 0 24 24\"\n",
              "     width=\"24px\">\n",
              "    <g>\n",
              "        <path d=\"M19 3H5c-1.1 0-2 .9-2 2v14c0 1.1.9 2 2 2h14c1.1 0 2-.9 2-2V5c0-1.1-.9-2-2-2zM9 17H7v-7h2v7zm4 0h-2V7h2v10zm4 0h-2v-4h2v4z\"/>\n",
              "    </g>\n",
              "</svg>\n",
              "      </button>\n",
              "    </div>\n",
              "\n",
              "<style>\n",
              "  .colab-df-quickchart {\n",
              "    background-color: #E8F0FE;\n",
              "    border: none;\n",
              "    border-radius: 50%;\n",
              "    cursor: pointer;\n",
              "    display: none;\n",
              "    fill: #1967D2;\n",
              "    height: 32px;\n",
              "    padding: 0 0 0 0;\n",
              "    width: 32px;\n",
              "  }\n",
              "\n",
              "  .colab-df-quickchart:hover {\n",
              "    background-color: #E2EBFA;\n",
              "    box-shadow: 0px 1px 2px rgba(60, 64, 67, 0.3), 0px 1px 3px 1px rgba(60, 64, 67, 0.15);\n",
              "    fill: #174EA6;\n",
              "  }\n",
              "\n",
              "  [theme=dark] .colab-df-quickchart {\n",
              "    background-color: #3B4455;\n",
              "    fill: #D2E3FC;\n",
              "  }\n",
              "\n",
              "  [theme=dark] .colab-df-quickchart:hover {\n",
              "    background-color: #434B5C;\n",
              "    box-shadow: 0px 1px 3px 1px rgba(0, 0, 0, 0.15);\n",
              "    filter: drop-shadow(0px 1px 2px rgba(0, 0, 0, 0.3));\n",
              "    fill: #FFFFFF;\n",
              "  }\n",
              "</style>\n",
              "\n",
              "    <script>\n",
              "      async function quickchart(key) {\n",
              "        const containerElement = document.querySelector('#' + key);\n",
              "        const charts = await google.colab.kernel.invokeFunction(\n",
              "            'suggestCharts', [key], {});\n",
              "      }\n",
              "    </script>\n",
              "\n",
              "      <script>\n",
              "\n",
              "function displayQuickchartButton(domScope) {\n",
              "  let quickchartButtonEl =\n",
              "    domScope.querySelector('#df-54b7977e-b5ca-42c1-8835-831e5c3ac861 button.colab-df-quickchart');\n",
              "  quickchartButtonEl.style.display =\n",
              "    google.colab.kernel.accessAllowed ? 'block' : 'none';\n",
              "}\n",
              "\n",
              "        displayQuickchartButton(document);\n",
              "      </script>\n",
              "      <style>\n",
              "    .colab-df-container {\n",
              "      display:flex;\n",
              "      flex-wrap:wrap;\n",
              "      gap: 12px;\n",
              "    }\n",
              "\n",
              "    .colab-df-convert {\n",
              "      background-color: #E8F0FE;\n",
              "      border: none;\n",
              "      border-radius: 50%;\n",
              "      cursor: pointer;\n",
              "      display: none;\n",
              "      fill: #1967D2;\n",
              "      height: 32px;\n",
              "      padding: 0 0 0 0;\n",
              "      width: 32px;\n",
              "    }\n",
              "\n",
              "    .colab-df-convert:hover {\n",
              "      background-color: #E2EBFA;\n",
              "      box-shadow: 0px 1px 2px rgba(60, 64, 67, 0.3), 0px 1px 3px 1px rgba(60, 64, 67, 0.15);\n",
              "      fill: #174EA6;\n",
              "    }\n",
              "\n",
              "    [theme=dark] .colab-df-convert {\n",
              "      background-color: #3B4455;\n",
              "      fill: #D2E3FC;\n",
              "    }\n",
              "\n",
              "    [theme=dark] .colab-df-convert:hover {\n",
              "      background-color: #434B5C;\n",
              "      box-shadow: 0px 1px 3px 1px rgba(0, 0, 0, 0.15);\n",
              "      filter: drop-shadow(0px 1px 2px rgba(0, 0, 0, 0.3));\n",
              "      fill: #FFFFFF;\n",
              "    }\n",
              "  </style>\n",
              "\n",
              "      <script>\n",
              "        const buttonEl =\n",
              "          document.querySelector('#df-8d83b258-830e-4532-9c71-e61b06b1a4dd button.colab-df-convert');\n",
              "        buttonEl.style.display =\n",
              "          google.colab.kernel.accessAllowed ? 'block' : 'none';\n",
              "\n",
              "        async function convertToInteractive(key) {\n",
              "          const element = document.querySelector('#df-8d83b258-830e-4532-9c71-e61b06b1a4dd');\n",
              "          const dataTable =\n",
              "            await google.colab.kernel.invokeFunction('convertToInteractive',\n",
              "                                                     [key], {});\n",
              "          if (!dataTable) return;\n",
              "\n",
              "          const docLinkHtml = 'Like what you see? Visit the ' +\n",
              "            '<a target=\"_blank\" href=https://colab.research.google.com/notebooks/data_table.ipynb>data table notebook</a>'\n",
              "            + ' to learn more about interactive tables.';\n",
              "          element.innerHTML = '';\n",
              "          dataTable['output_type'] = 'display_data';\n",
              "          await google.colab.output.renderOutput(dataTable, element);\n",
              "          const docLink = document.createElement('div');\n",
              "          docLink.innerHTML = docLinkHtml;\n",
              "          element.appendChild(docLink);\n",
              "        }\n",
              "      </script>\n",
              "    </div>\n",
              "  </div>\n"
            ]
          },
          "metadata": {},
          "execution_count": 6
        }
      ],
      "source": [
        "X.head() # признаки"
      ]
    },
    {
      "cell_type": "code",
      "execution_count": null,
      "id": "9e6e3ca3",
      "metadata": {
        "ExecuteTime": {
          "end_time": "2021-09-20T20:03:51.955438Z",
          "start_time": "2021-09-20T20:03:51.947473Z"
        },
        "id": "9e6e3ca3",
        "colab": {
          "base_uri": "https://localhost:8080/"
        },
        "outputId": "e5247cf7-c88b-404f-9675-e3292346ae02"
      },
      "outputs": [
        {
          "output_type": "execute_result",
          "data": {
            "text/plain": [
              "0        4.526\n",
              "1        3.585\n",
              "2        3.521\n",
              "3        3.413\n",
              "4        3.422\n",
              "         ...  \n",
              "20635    0.781\n",
              "20636    0.771\n",
              "20637    0.923\n",
              "20638    0.847\n",
              "20639    0.894\n",
              "Name: MedHouseVal, Length: 20640, dtype: float64"
            ]
          },
          "metadata": {},
          "execution_count": 7
        }
      ],
      "source": [
        "y"
      ]
    },
    {
      "cell_type": "code",
      "source": [
        "from sklearn.preprocessing import StandardScaler, MinMaxScaler"
      ],
      "metadata": {
        "id": "OwKvH8O5GZm-"
      },
      "id": "OwKvH8O5GZm-",
      "execution_count": null,
      "outputs": []
    },
    {
      "cell_type": "code",
      "source": [
        "X.head()"
      ],
      "metadata": {
        "colab": {
          "base_uri": "https://localhost:8080/",
          "height": 206
        },
        "id": "jm6DwND8jCUF",
        "outputId": "b341bcf3-ecc9-43a0-b243-e1908f6e132d"
      },
      "id": "jm6DwND8jCUF",
      "execution_count": null,
      "outputs": [
        {
          "output_type": "execute_result",
          "data": {
            "text/plain": [
              "   MedInc  HouseAge  AveRooms  AveBedrms  Population  AveOccup  Latitude  \\\n",
              "0  8.3252      41.0  6.984127   1.023810       322.0  2.555556     37.88   \n",
              "1  8.3014      21.0  6.238137   0.971880      2401.0  2.109842     37.86   \n",
              "2  7.2574      52.0  8.288136   1.073446       496.0  2.802260     37.85   \n",
              "3  5.6431      52.0  5.817352   1.073059       558.0  2.547945     37.85   \n",
              "4  3.8462      52.0  6.281853   1.081081       565.0  2.181467     37.85   \n",
              "\n",
              "   Longitude  \n",
              "0    -122.23  \n",
              "1    -122.22  \n",
              "2    -122.24  \n",
              "3    -122.25  \n",
              "4    -122.25  "
            ],
            "text/html": [
              "\n",
              "\n",
              "  <div id=\"df-f364ab93-18d9-4369-943d-a1dd31f895a0\">\n",
              "    <div class=\"colab-df-container\">\n",
              "      <div>\n",
              "<style scoped>\n",
              "    .dataframe tbody tr th:only-of-type {\n",
              "        vertical-align: middle;\n",
              "    }\n",
              "\n",
              "    .dataframe tbody tr th {\n",
              "        vertical-align: top;\n",
              "    }\n",
              "\n",
              "    .dataframe thead th {\n",
              "        text-align: right;\n",
              "    }\n",
              "</style>\n",
              "<table border=\"1\" class=\"dataframe\">\n",
              "  <thead>\n",
              "    <tr style=\"text-align: right;\">\n",
              "      <th></th>\n",
              "      <th>MedInc</th>\n",
              "      <th>HouseAge</th>\n",
              "      <th>AveRooms</th>\n",
              "      <th>AveBedrms</th>\n",
              "      <th>Population</th>\n",
              "      <th>AveOccup</th>\n",
              "      <th>Latitude</th>\n",
              "      <th>Longitude</th>\n",
              "    </tr>\n",
              "  </thead>\n",
              "  <tbody>\n",
              "    <tr>\n",
              "      <th>0</th>\n",
              "      <td>8.3252</td>\n",
              "      <td>41.0</td>\n",
              "      <td>6.984127</td>\n",
              "      <td>1.023810</td>\n",
              "      <td>322.0</td>\n",
              "      <td>2.555556</td>\n",
              "      <td>37.88</td>\n",
              "      <td>-122.23</td>\n",
              "    </tr>\n",
              "    <tr>\n",
              "      <th>1</th>\n",
              "      <td>8.3014</td>\n",
              "      <td>21.0</td>\n",
              "      <td>6.238137</td>\n",
              "      <td>0.971880</td>\n",
              "      <td>2401.0</td>\n",
              "      <td>2.109842</td>\n",
              "      <td>37.86</td>\n",
              "      <td>-122.22</td>\n",
              "    </tr>\n",
              "    <tr>\n",
              "      <th>2</th>\n",
              "      <td>7.2574</td>\n",
              "      <td>52.0</td>\n",
              "      <td>8.288136</td>\n",
              "      <td>1.073446</td>\n",
              "      <td>496.0</td>\n",
              "      <td>2.802260</td>\n",
              "      <td>37.85</td>\n",
              "      <td>-122.24</td>\n",
              "    </tr>\n",
              "    <tr>\n",
              "      <th>3</th>\n",
              "      <td>5.6431</td>\n",
              "      <td>52.0</td>\n",
              "      <td>5.817352</td>\n",
              "      <td>1.073059</td>\n",
              "      <td>558.0</td>\n",
              "      <td>2.547945</td>\n",
              "      <td>37.85</td>\n",
              "      <td>-122.25</td>\n",
              "    </tr>\n",
              "    <tr>\n",
              "      <th>4</th>\n",
              "      <td>3.8462</td>\n",
              "      <td>52.0</td>\n",
              "      <td>6.281853</td>\n",
              "      <td>1.081081</td>\n",
              "      <td>565.0</td>\n",
              "      <td>2.181467</td>\n",
              "      <td>37.85</td>\n",
              "      <td>-122.25</td>\n",
              "    </tr>\n",
              "  </tbody>\n",
              "</table>\n",
              "</div>\n",
              "      <button class=\"colab-df-convert\" onclick=\"convertToInteractive('df-f364ab93-18d9-4369-943d-a1dd31f895a0')\"\n",
              "              title=\"Convert this dataframe to an interactive table.\"\n",
              "              style=\"display:none;\">\n",
              "\n",
              "  <svg xmlns=\"http://www.w3.org/2000/svg\" height=\"24px\"viewBox=\"0 0 24 24\"\n",
              "       width=\"24px\">\n",
              "    <path d=\"M0 0h24v24H0V0z\" fill=\"none\"/>\n",
              "    <path d=\"M18.56 5.44l.94 2.06.94-2.06 2.06-.94-2.06-.94-.94-2.06-.94 2.06-2.06.94zm-11 1L8.5 8.5l.94-2.06 2.06-.94-2.06-.94L8.5 2.5l-.94 2.06-2.06.94zm10 10l.94 2.06.94-2.06 2.06-.94-2.06-.94-.94-2.06-.94 2.06-2.06.94z\"/><path d=\"M17.41 7.96l-1.37-1.37c-.4-.4-.92-.59-1.43-.59-.52 0-1.04.2-1.43.59L10.3 9.45l-7.72 7.72c-.78.78-.78 2.05 0 2.83L4 21.41c.39.39.9.59 1.41.59.51 0 1.02-.2 1.41-.59l7.78-7.78 2.81-2.81c.8-.78.8-2.07 0-2.86zM5.41 20L4 18.59l7.72-7.72 1.47 1.35L5.41 20z\"/>\n",
              "  </svg>\n",
              "      </button>\n",
              "\n",
              "\n",
              "\n",
              "    <div id=\"df-99e4b47e-6174-4a12-a84a-fc780887a108\">\n",
              "      <button class=\"colab-df-quickchart\" onclick=\"quickchart('df-99e4b47e-6174-4a12-a84a-fc780887a108')\"\n",
              "              title=\"Suggest charts.\"\n",
              "              style=\"display:none;\">\n",
              "\n",
              "<svg xmlns=\"http://www.w3.org/2000/svg\" height=\"24px\"viewBox=\"0 0 24 24\"\n",
              "     width=\"24px\">\n",
              "    <g>\n",
              "        <path d=\"M19 3H5c-1.1 0-2 .9-2 2v14c0 1.1.9 2 2 2h14c1.1 0 2-.9 2-2V5c0-1.1-.9-2-2-2zM9 17H7v-7h2v7zm4 0h-2V7h2v10zm4 0h-2v-4h2v4z\"/>\n",
              "    </g>\n",
              "</svg>\n",
              "      </button>\n",
              "    </div>\n",
              "\n",
              "<style>\n",
              "  .colab-df-quickchart {\n",
              "    background-color: #E8F0FE;\n",
              "    border: none;\n",
              "    border-radius: 50%;\n",
              "    cursor: pointer;\n",
              "    display: none;\n",
              "    fill: #1967D2;\n",
              "    height: 32px;\n",
              "    padding: 0 0 0 0;\n",
              "    width: 32px;\n",
              "  }\n",
              "\n",
              "  .colab-df-quickchart:hover {\n",
              "    background-color: #E2EBFA;\n",
              "    box-shadow: 0px 1px 2px rgba(60, 64, 67, 0.3), 0px 1px 3px 1px rgba(60, 64, 67, 0.15);\n",
              "    fill: #174EA6;\n",
              "  }\n",
              "\n",
              "  [theme=dark] .colab-df-quickchart {\n",
              "    background-color: #3B4455;\n",
              "    fill: #D2E3FC;\n",
              "  }\n",
              "\n",
              "  [theme=dark] .colab-df-quickchart:hover {\n",
              "    background-color: #434B5C;\n",
              "    box-shadow: 0px 1px 3px 1px rgba(0, 0, 0, 0.15);\n",
              "    filter: drop-shadow(0px 1px 2px rgba(0, 0, 0, 0.3));\n",
              "    fill: #FFFFFF;\n",
              "  }\n",
              "</style>\n",
              "\n",
              "    <script>\n",
              "      async function quickchart(key) {\n",
              "        const containerElement = document.querySelector('#' + key);\n",
              "        const charts = await google.colab.kernel.invokeFunction(\n",
              "            'suggestCharts', [key], {});\n",
              "      }\n",
              "    </script>\n",
              "\n",
              "      <script>\n",
              "\n",
              "function displayQuickchartButton(domScope) {\n",
              "  let quickchartButtonEl =\n",
              "    domScope.querySelector('#df-99e4b47e-6174-4a12-a84a-fc780887a108 button.colab-df-quickchart');\n",
              "  quickchartButtonEl.style.display =\n",
              "    google.colab.kernel.accessAllowed ? 'block' : 'none';\n",
              "}\n",
              "\n",
              "        displayQuickchartButton(document);\n",
              "      </script>\n",
              "      <style>\n",
              "    .colab-df-container {\n",
              "      display:flex;\n",
              "      flex-wrap:wrap;\n",
              "      gap: 12px;\n",
              "    }\n",
              "\n",
              "    .colab-df-convert {\n",
              "      background-color: #E8F0FE;\n",
              "      border: none;\n",
              "      border-radius: 50%;\n",
              "      cursor: pointer;\n",
              "      display: none;\n",
              "      fill: #1967D2;\n",
              "      height: 32px;\n",
              "      padding: 0 0 0 0;\n",
              "      width: 32px;\n",
              "    }\n",
              "\n",
              "    .colab-df-convert:hover {\n",
              "      background-color: #E2EBFA;\n",
              "      box-shadow: 0px 1px 2px rgba(60, 64, 67, 0.3), 0px 1px 3px 1px rgba(60, 64, 67, 0.15);\n",
              "      fill: #174EA6;\n",
              "    }\n",
              "\n",
              "    [theme=dark] .colab-df-convert {\n",
              "      background-color: #3B4455;\n",
              "      fill: #D2E3FC;\n",
              "    }\n",
              "\n",
              "    [theme=dark] .colab-df-convert:hover {\n",
              "      background-color: #434B5C;\n",
              "      box-shadow: 0px 1px 3px 1px rgba(0, 0, 0, 0.15);\n",
              "      filter: drop-shadow(0px 1px 2px rgba(0, 0, 0, 0.3));\n",
              "      fill: #FFFFFF;\n",
              "    }\n",
              "  </style>\n",
              "\n",
              "      <script>\n",
              "        const buttonEl =\n",
              "          document.querySelector('#df-f364ab93-18d9-4369-943d-a1dd31f895a0 button.colab-df-convert');\n",
              "        buttonEl.style.display =\n",
              "          google.colab.kernel.accessAllowed ? 'block' : 'none';\n",
              "\n",
              "        async function convertToInteractive(key) {\n",
              "          const element = document.querySelector('#df-f364ab93-18d9-4369-943d-a1dd31f895a0');\n",
              "          const dataTable =\n",
              "            await google.colab.kernel.invokeFunction('convertToInteractive',\n",
              "                                                     [key], {});\n",
              "          if (!dataTable) return;\n",
              "\n",
              "          const docLinkHtml = 'Like what you see? Visit the ' +\n",
              "            '<a target=\"_blank\" href=https://colab.research.google.com/notebooks/data_table.ipynb>data table notebook</a>'\n",
              "            + ' to learn more about interactive tables.';\n",
              "          element.innerHTML = '';\n",
              "          dataTable['output_type'] = 'display_data';\n",
              "          await google.colab.output.renderOutput(dataTable, element);\n",
              "          const docLink = document.createElement('div');\n",
              "          docLink.innerHTML = docLinkHtml;\n",
              "          element.appendChild(docLink);\n",
              "        }\n",
              "      </script>\n",
              "    </div>\n",
              "  </div>\n"
            ]
          },
          "metadata": {},
          "execution_count": 9
        }
      ]
    },
    {
      "cell_type": "code",
      "execution_count": null,
      "id": "093f5695",
      "metadata": {
        "ExecuteTime": {
          "end_time": "2021-09-20T20:03:51.962949Z",
          "start_time": "2021-09-20T20:03:51.957145Z"
        },
        "id": "093f5695"
      },
      "outputs": [],
      "source": [
        "# Разобьем данные на обучающую и тестовую выборки\n",
        "\n",
        "from sklearn.model_selection import train_test_split\n",
        "\n",
        "X_train, X_test, y_train, y_test = train_test_split(X, y, test_size=0.25) #, random_state=RANDOM_STATE)"
      ]
    },
    {
      "cell_type": "code",
      "source": [
        "sc = StandardScaler() # x -> (x - mean) / std\n",
        "\n",
        "sc.fit(X_train) # вычисляем mean, std\n",
        "\n",
        "X_train = pd.DataFrame(sc.transform(X_train), columns = X_train.columns)\n",
        "X_test = pd.DataFrame(sc.transform(X_test), columns = X_test.columns)"
      ],
      "metadata": {
        "id": "m4DBXwulMcu4"
      },
      "id": "m4DBXwulMcu4",
      "execution_count": null,
      "outputs": []
    },
    {
      "cell_type": "code",
      "source": [
        "X_train.head()"
      ],
      "metadata": {
        "colab": {
          "base_uri": "https://localhost:8080/",
          "height": 206
        },
        "id": "ftXCZxVsj05y",
        "outputId": "7ad41aa8-8113-4133-f528-8da599f4a433"
      },
      "id": "ftXCZxVsj05y",
      "execution_count": null,
      "outputs": [
        {
          "output_type": "execute_result",
          "data": {
            "text/plain": [
              "     MedInc  HouseAge  AveRooms  AveBedrms  Population  AveOccup  Latitude  \\\n",
              "0  0.176489  0.666407 -0.060854  -0.281118   -0.496544 -0.048283 -0.860741   \n",
              "1  0.771374  1.062889  0.383521  -0.020378   -0.411672 -0.058729  0.709168   \n",
              "2  0.021424  0.587111  0.278523  -0.084625   -0.626915 -0.072838  1.313701   \n",
              "3  1.309004  0.269925  0.233072  -0.243135   -0.234928 -0.069768 -0.696721   \n",
              "4 -0.793136 -0.919520 -0.264184  -0.139881   -0.631290 -0.085141  1.369936   \n",
              "\n",
              "   Longitude  \n",
              "0   0.730999  \n",
              "1  -1.196710  \n",
              "2  -1.551288  \n",
              "3   0.586171  \n",
              "4  -0.872096  "
            ],
            "text/html": [
              "\n",
              "\n",
              "  <div id=\"df-3fd6002b-cc7f-4ede-be85-a31a0d067fea\">\n",
              "    <div class=\"colab-df-container\">\n",
              "      <div>\n",
              "<style scoped>\n",
              "    .dataframe tbody tr th:only-of-type {\n",
              "        vertical-align: middle;\n",
              "    }\n",
              "\n",
              "    .dataframe tbody tr th {\n",
              "        vertical-align: top;\n",
              "    }\n",
              "\n",
              "    .dataframe thead th {\n",
              "        text-align: right;\n",
              "    }\n",
              "</style>\n",
              "<table border=\"1\" class=\"dataframe\">\n",
              "  <thead>\n",
              "    <tr style=\"text-align: right;\">\n",
              "      <th></th>\n",
              "      <th>MedInc</th>\n",
              "      <th>HouseAge</th>\n",
              "      <th>AveRooms</th>\n",
              "      <th>AveBedrms</th>\n",
              "      <th>Population</th>\n",
              "      <th>AveOccup</th>\n",
              "      <th>Latitude</th>\n",
              "      <th>Longitude</th>\n",
              "    </tr>\n",
              "  </thead>\n",
              "  <tbody>\n",
              "    <tr>\n",
              "      <th>0</th>\n",
              "      <td>0.176489</td>\n",
              "      <td>0.666407</td>\n",
              "      <td>-0.060854</td>\n",
              "      <td>-0.281118</td>\n",
              "      <td>-0.496544</td>\n",
              "      <td>-0.048283</td>\n",
              "      <td>-0.860741</td>\n",
              "      <td>0.730999</td>\n",
              "    </tr>\n",
              "    <tr>\n",
              "      <th>1</th>\n",
              "      <td>0.771374</td>\n",
              "      <td>1.062889</td>\n",
              "      <td>0.383521</td>\n",
              "      <td>-0.020378</td>\n",
              "      <td>-0.411672</td>\n",
              "      <td>-0.058729</td>\n",
              "      <td>0.709168</td>\n",
              "      <td>-1.196710</td>\n",
              "    </tr>\n",
              "    <tr>\n",
              "      <th>2</th>\n",
              "      <td>0.021424</td>\n",
              "      <td>0.587111</td>\n",
              "      <td>0.278523</td>\n",
              "      <td>-0.084625</td>\n",
              "      <td>-0.626915</td>\n",
              "      <td>-0.072838</td>\n",
              "      <td>1.313701</td>\n",
              "      <td>-1.551288</td>\n",
              "    </tr>\n",
              "    <tr>\n",
              "      <th>3</th>\n",
              "      <td>1.309004</td>\n",
              "      <td>0.269925</td>\n",
              "      <td>0.233072</td>\n",
              "      <td>-0.243135</td>\n",
              "      <td>-0.234928</td>\n",
              "      <td>-0.069768</td>\n",
              "      <td>-0.696721</td>\n",
              "      <td>0.586171</td>\n",
              "    </tr>\n",
              "    <tr>\n",
              "      <th>4</th>\n",
              "      <td>-0.793136</td>\n",
              "      <td>-0.919520</td>\n",
              "      <td>-0.264184</td>\n",
              "      <td>-0.139881</td>\n",
              "      <td>-0.631290</td>\n",
              "      <td>-0.085141</td>\n",
              "      <td>1.369936</td>\n",
              "      <td>-0.872096</td>\n",
              "    </tr>\n",
              "  </tbody>\n",
              "</table>\n",
              "</div>\n",
              "      <button class=\"colab-df-convert\" onclick=\"convertToInteractive('df-3fd6002b-cc7f-4ede-be85-a31a0d067fea')\"\n",
              "              title=\"Convert this dataframe to an interactive table.\"\n",
              "              style=\"display:none;\">\n",
              "\n",
              "  <svg xmlns=\"http://www.w3.org/2000/svg\" height=\"24px\"viewBox=\"0 0 24 24\"\n",
              "       width=\"24px\">\n",
              "    <path d=\"M0 0h24v24H0V0z\" fill=\"none\"/>\n",
              "    <path d=\"M18.56 5.44l.94 2.06.94-2.06 2.06-.94-2.06-.94-.94-2.06-.94 2.06-2.06.94zm-11 1L8.5 8.5l.94-2.06 2.06-.94-2.06-.94L8.5 2.5l-.94 2.06-2.06.94zm10 10l.94 2.06.94-2.06 2.06-.94-2.06-.94-.94-2.06-.94 2.06-2.06.94z\"/><path d=\"M17.41 7.96l-1.37-1.37c-.4-.4-.92-.59-1.43-.59-.52 0-1.04.2-1.43.59L10.3 9.45l-7.72 7.72c-.78.78-.78 2.05 0 2.83L4 21.41c.39.39.9.59 1.41.59.51 0 1.02-.2 1.41-.59l7.78-7.78 2.81-2.81c.8-.78.8-2.07 0-2.86zM5.41 20L4 18.59l7.72-7.72 1.47 1.35L5.41 20z\"/>\n",
              "  </svg>\n",
              "      </button>\n",
              "\n",
              "\n",
              "\n",
              "    <div id=\"df-b799cfc7-8392-4579-9908-f3a875261376\">\n",
              "      <button class=\"colab-df-quickchart\" onclick=\"quickchart('df-b799cfc7-8392-4579-9908-f3a875261376')\"\n",
              "              title=\"Suggest charts.\"\n",
              "              style=\"display:none;\">\n",
              "\n",
              "<svg xmlns=\"http://www.w3.org/2000/svg\" height=\"24px\"viewBox=\"0 0 24 24\"\n",
              "     width=\"24px\">\n",
              "    <g>\n",
              "        <path d=\"M19 3H5c-1.1 0-2 .9-2 2v14c0 1.1.9 2 2 2h14c1.1 0 2-.9 2-2V5c0-1.1-.9-2-2-2zM9 17H7v-7h2v7zm4 0h-2V7h2v10zm4 0h-2v-4h2v4z\"/>\n",
              "    </g>\n",
              "</svg>\n",
              "      </button>\n",
              "    </div>\n",
              "\n",
              "<style>\n",
              "  .colab-df-quickchart {\n",
              "    background-color: #E8F0FE;\n",
              "    border: none;\n",
              "    border-radius: 50%;\n",
              "    cursor: pointer;\n",
              "    display: none;\n",
              "    fill: #1967D2;\n",
              "    height: 32px;\n",
              "    padding: 0 0 0 0;\n",
              "    width: 32px;\n",
              "  }\n",
              "\n",
              "  .colab-df-quickchart:hover {\n",
              "    background-color: #E2EBFA;\n",
              "    box-shadow: 0px 1px 2px rgba(60, 64, 67, 0.3), 0px 1px 3px 1px rgba(60, 64, 67, 0.15);\n",
              "    fill: #174EA6;\n",
              "  }\n",
              "\n",
              "  [theme=dark] .colab-df-quickchart {\n",
              "    background-color: #3B4455;\n",
              "    fill: #D2E3FC;\n",
              "  }\n",
              "\n",
              "  [theme=dark] .colab-df-quickchart:hover {\n",
              "    background-color: #434B5C;\n",
              "    box-shadow: 0px 1px 3px 1px rgba(0, 0, 0, 0.15);\n",
              "    filter: drop-shadow(0px 1px 2px rgba(0, 0, 0, 0.3));\n",
              "    fill: #FFFFFF;\n",
              "  }\n",
              "</style>\n",
              "\n",
              "    <script>\n",
              "      async function quickchart(key) {\n",
              "        const containerElement = document.querySelector('#' + key);\n",
              "        const charts = await google.colab.kernel.invokeFunction(\n",
              "            'suggestCharts', [key], {});\n",
              "      }\n",
              "    </script>\n",
              "\n",
              "      <script>\n",
              "\n",
              "function displayQuickchartButton(domScope) {\n",
              "  let quickchartButtonEl =\n",
              "    domScope.querySelector('#df-b799cfc7-8392-4579-9908-f3a875261376 button.colab-df-quickchart');\n",
              "  quickchartButtonEl.style.display =\n",
              "    google.colab.kernel.accessAllowed ? 'block' : 'none';\n",
              "}\n",
              "\n",
              "        displayQuickchartButton(document);\n",
              "      </script>\n",
              "      <style>\n",
              "    .colab-df-container {\n",
              "      display:flex;\n",
              "      flex-wrap:wrap;\n",
              "      gap: 12px;\n",
              "    }\n",
              "\n",
              "    .colab-df-convert {\n",
              "      background-color: #E8F0FE;\n",
              "      border: none;\n",
              "      border-radius: 50%;\n",
              "      cursor: pointer;\n",
              "      display: none;\n",
              "      fill: #1967D2;\n",
              "      height: 32px;\n",
              "      padding: 0 0 0 0;\n",
              "      width: 32px;\n",
              "    }\n",
              "\n",
              "    .colab-df-convert:hover {\n",
              "      background-color: #E2EBFA;\n",
              "      box-shadow: 0px 1px 2px rgba(60, 64, 67, 0.3), 0px 1px 3px 1px rgba(60, 64, 67, 0.15);\n",
              "      fill: #174EA6;\n",
              "    }\n",
              "\n",
              "    [theme=dark] .colab-df-convert {\n",
              "      background-color: #3B4455;\n",
              "      fill: #D2E3FC;\n",
              "    }\n",
              "\n",
              "    [theme=dark] .colab-df-convert:hover {\n",
              "      background-color: #434B5C;\n",
              "      box-shadow: 0px 1px 3px 1px rgba(0, 0, 0, 0.15);\n",
              "      filter: drop-shadow(0px 1px 2px rgba(0, 0, 0, 0.3));\n",
              "      fill: #FFFFFF;\n",
              "    }\n",
              "  </style>\n",
              "\n",
              "      <script>\n",
              "        const buttonEl =\n",
              "          document.querySelector('#df-3fd6002b-cc7f-4ede-be85-a31a0d067fea button.colab-df-convert');\n",
              "        buttonEl.style.display =\n",
              "          google.colab.kernel.accessAllowed ? 'block' : 'none';\n",
              "\n",
              "        async function convertToInteractive(key) {\n",
              "          const element = document.querySelector('#df-3fd6002b-cc7f-4ede-be85-a31a0d067fea');\n",
              "          const dataTable =\n",
              "            await google.colab.kernel.invokeFunction('convertToInteractive',\n",
              "                                                     [key], {});\n",
              "          if (!dataTable) return;\n",
              "\n",
              "          const docLinkHtml = 'Like what you see? Visit the ' +\n",
              "            '<a target=\"_blank\" href=https://colab.research.google.com/notebooks/data_table.ipynb>data table notebook</a>'\n",
              "            + ' to learn more about interactive tables.';\n",
              "          element.innerHTML = '';\n",
              "          dataTable['output_type'] = 'display_data';\n",
              "          await google.colab.output.renderOutput(dataTable, element);\n",
              "          const docLink = document.createElement('div');\n",
              "          docLink.innerHTML = docLinkHtml;\n",
              "          element.appendChild(docLink);\n",
              "        }\n",
              "      </script>\n",
              "    </div>\n",
              "  </div>\n"
            ]
          },
          "metadata": {},
          "execution_count": 12
        }
      ]
    },
    {
      "cell_type": "code",
      "execution_count": null,
      "metadata": {
        "id": "ef944OHib88V",
        "colab": {
          "base_uri": "https://localhost:8080/",
          "height": 430
        },
        "outputId": "cb7ab5a5-07e0-4b5b-a6f9-a55f53e3d0e5"
      },
      "outputs": [
        {
          "output_type": "display_data",
          "data": {
            "text/plain": [
              "<Figure size 640x480 with 1 Axes>"
            ],
            "image/png": "[encoded data removed]"
          },
          "metadata": {}
        }
      ],
      "source": [
        "from matplotlib import pylab as plt\n",
        "\n",
        "plt.hist(y, bins=30);"
      ],
      "id": "ef944OHib88V"
    },
    {
      "cell_type": "markdown",
      "id": "912f1b35",
      "metadata": {
        "id": "912f1b35"
      },
      "source": [
        "Как было рассказано на лекции, линейную регрессию можно обучать с помощью разного функционала (не только MSE, который мы разбирали на прошлом семинаре) и оценивать с помощью разных метрик - закодим это"
      ]
    },
    {
      "cell_type": "markdown",
      "source": [
        "## Точное и приближенное решение"
      ],
      "metadata": {
        "id": "1BGzxpT96X7B"
      },
      "id": "1BGzxpT96X7B"
    },
    {
      "cell_type": "markdown",
      "source": [
        "Линейную регрессию можно обучать по точной формуле, а можно приближенно (с помощью градиентного спуска).\n",
        "\n",
        "У точного решения есть недостатки:\n",
        "* оно считается долго, если данных много\n",
        "* оно может не посчитаться, если в данных есть линейно-зависимые признаки\n",
        "* оно есть, только если функция потерь - MSE\n",
        "\n",
        "Поэтому если данных не много, и мы решаем классическую задачу - используем точное решение.\n",
        "\n",
        "Во всех остальных случаях - градиентный спуск."
      ],
      "metadata": {
        "id": "1W8DkjOaBTtz"
      },
      "id": "1W8DkjOaBTtz"
    },
    {
      "cell_type": "markdown",
      "source": [
        "Обучим классическую линейную регрессию по точной формуле и оценим ее качество"
      ],
      "metadata": {
        "id": "aAFZGF9NBD4v"
      },
      "id": "aAFZGF9NBD4v"
    },
    {
      "cell_type": "code",
      "source": [
        "from sklearn.linear_model import LinearRegression # MSE\n",
        "\n",
        "from sklearn.metrics import mean_squared_error, mean_absolute_error, r2_score"
      ],
      "metadata": {
        "id": "kowIw05ITcib"
      },
      "id": "kowIw05ITcib",
      "execution_count": null,
      "outputs": []
    },
    {
      "cell_type": "code",
      "source": [
        "lr = LinearRegression() # точное решение\n",
        "\n",
        "lr.fit(X_train, y_train) # минимизируем функцию потерь\n",
        "\n",
        "y_pred_lr = lr.predict(X_test)"
      ],
      "metadata": {
        "id": "vr0a5YfAAwSC"
      },
      "id": "vr0a5YfAAwSC",
      "execution_count": null,
      "outputs": []
    },
    {
      "cell_type": "code",
      "source": [
        "y_pred_lr # прогнозы"
      ],
      "metadata": {
        "colab": {
          "base_uri": "https://localhost:8080/"
        },
        "id": "JC8jzuoJlVQz",
        "outputId": "4aea183a-1991-47da-e0ce-5f8bada97474"
      },
      "id": "JC8jzuoJlVQz",
      "execution_count": null,
      "outputs": [
        {
          "output_type": "execute_result",
          "data": {
            "text/plain": [
              "array([0.72412832, 1.76677807, 2.71151581, ..., 1.72382152, 2.34689276,\n",
              "       3.52917352])"
            ]
          },
          "metadata": {},
          "execution_count": 16
        }
      ]
    },
    {
      "cell_type": "code",
      "source": [
        "y_test # правильные ответы"
      ],
      "metadata": {
        "colab": {
          "base_uri": "https://localhost:8080/"
        },
        "id": "bI4sg4XHlb1s",
        "outputId": "5ccad6bb-eecd-4bb4-cfb4-c36b4e5b32d3"
      },
      "id": "bI4sg4XHlb1s",
      "execution_count": null,
      "outputs": [
        {
          "output_type": "execute_result",
          "data": {
            "text/plain": [
              "20046    0.47700\n",
              "3024     0.45800\n",
              "15663    5.00001\n",
              "20484    2.18600\n",
              "9814     2.78000\n",
              "          ...   \n",
              "5363     5.00001\n",
              "19755    0.63200\n",
              "4885     1.17700\n",
              "13043    2.63100\n",
              "8583     4.81500\n",
              "Name: MedHouseVal, Length: 5160, dtype: float64"
            ]
          },
          "metadata": {},
          "execution_count": 17
        }
      ]
    },
    {
      "cell_type": "code",
      "source": [
        "plt.scatter(y_pred_lr, y_test)"
      ],
      "metadata": {
        "colab": {
          "base_uri": "https://localhost:8080/",
          "height": 447
        },
        "id": "T1Ocx91El5qz",
        "outputId": "62973cd1-5623-4345-be1d-2e56eaa993e5"
      },
      "id": "T1Ocx91El5qz",
      "execution_count": null,
      "outputs": [
        {
          "output_type": "execute_result",
          "data": {
            "text/plain": [
              "<matplotlib.collections.PathCollection at 0x79f2a803cd00>"
            ]
          },
          "metadata": {},
          "execution_count": 18
        },
        {
          "output_type": "display_data",
          "data": {
            "text/plain": [
              "<Figure size 640x480 with 1 Axes>"
            ],
            "image/png": "[encoded data removed]"
          },
          "metadata": {}
        }
      ]
    },
    {
      "cell_type": "code",
      "source": [
        "r2_score(y_test, y_pred_lr) # вычисляем метрику качества"
      ],
      "metadata": {
        "id": "sI4I56MlA7Uq",
        "colab": {
          "base_uri": "https://localhost:8080/"
        },
        "outputId": "a787e598-5217-41cc-ce7c-e7605968e70e"
      },
      "id": "sI4I56MlA7Uq",
      "execution_count": null,
      "outputs": [
        {
          "output_type": "execute_result",
          "data": {
            "text/plain": [
              "0.5910509795491351"
            ]
          },
          "metadata": {},
          "execution_count": 19
        }
      ]
    },
    {
      "cell_type": "markdown",
      "source": [
        "Оценим переобучение"
      ],
      "metadata": {
        "id": "8RgPIZRUBHB0"
      },
      "id": "8RgPIZRUBHB0"
    },
    {
      "cell_type": "code",
      "source": [
        "y_pred_train = lr.predict(X_train)\n",
        "\n",
        "r2_score(y_train, y_pred_train)"
      ],
      "metadata": {
        "id": "rNFWTqTYBIVH",
        "colab": {
          "base_uri": "https://localhost:8080/"
        },
        "outputId": "7ef5ff81-0add-4ec3-f59f-85c879e70d1c"
      },
      "id": "rNFWTqTYBIVH",
      "execution_count": null,
      "outputs": [
        {
          "output_type": "execute_result",
          "data": {
            "text/plain": [
              "0.609873031052925"
            ]
          },
          "metadata": {},
          "execution_count": 20
        }
      ]
    },
    {
      "cell_type": "markdown",
      "source": [
        "Переобучения нет :)"
      ],
      "metadata": {
        "id": "N-VdWbhLBPky"
      },
      "id": "N-VdWbhLBPky"
    },
    {
      "cell_type": "markdown",
      "source": [
        "## Обучение с помощью градиентного спуска"
      ],
      "metadata": {
        "id": "jncmg2106abf"
      },
      "id": "jncmg2106abf"
    },
    {
      "cell_type": "markdown",
      "source": [
        "![image.png](data:image/png;base64,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)"
      ],
      "metadata": {
        "id": "tLJPtejQK5yr"
      },
      "id": "tLJPtejQK5yr"
    },
    {
      "cell_type": "markdown",
      "source": [
        "Первый вариант - стандартный - минимизируем MSE."
      ],
      "metadata": {
        "id": "WBJE_TzvBvO4"
      },
      "id": "WBJE_TzvBvO4"
    },
    {
      "cell_type": "code",
      "source": [
        "from sklearn.linear_model import SGDRegressor\n",
        "\n",
        "lr_mse = SGDRegressor(loss='squared_error', max_iter=50000, learning_rate='constant', eta0=0.00001) # MSE\n",
        "\n",
        "lr_mse.fit(X_train, y_train)\n",
        "\n",
        "y_pred_mse = lr_mse.predict(X_test)"
      ],
      "metadata": {
        "id": "v0lDODeJUQUn"
      },
      "id": "v0lDODeJUQUn",
      "execution_count": null,
      "outputs": []
    },
    {
      "cell_type": "code",
      "source": [
        "y_pred_mse = lr_mse.predict(X_test)\n",
        "r2_score(y_test, y_pred_mse)"
      ],
      "metadata": {
        "colab": {
          "base_uri": "https://localhost:8080/"
        },
        "id": "kePsmWp3LPBg",
        "outputId": "966cabe0-745b-4174-fadf-0c80bf7fe054"
      },
      "id": "kePsmWp3LPBg",
      "execution_count": null,
      "outputs": [
        {
          "output_type": "execute_result",
          "data": {
            "text/plain": [
              "0.560227865666836"
            ]
          },
          "metadata": {},
          "execution_count": 23
        }
      ]
    },
    {
      "cell_type": "code",
      "source": [
        "pred_test = lr_mse.predict(X_test)\n",
        "\n",
        "r2_score(y_test, pred_test)"
      ],
      "metadata": {
        "id": "Q0qlvxEFX-8S",
        "colab": {
          "base_uri": "https://localhost:8080/"
        },
        "outputId": "6ae2f9dc-b604-457b-b42f-f4e05155ed81"
      },
      "id": "Q0qlvxEFX-8S",
      "execution_count": null,
      "outputs": [
        {
          "output_type": "execute_result",
          "data": {
            "text/plain": [
              "0.560227865666836"
            ]
          },
          "metadata": {},
          "execution_count": 22
        }
      ]
    },
    {
      "cell_type": "markdown",
      "source": [
        "Теперь попробуем минимизировать MAE"
      ],
      "metadata": {
        "id": "p2bpp1as6eHz"
      },
      "id": "p2bpp1as6eHz"
    },
    {
      "cell_type": "markdown",
      "source": [
        "### Задание\n"
      ],
      "metadata": {
        "id": "1PiXC0IBCHtY"
      },
      "id": "1PiXC0IBCHtY"
    },
    {
      "cell_type": "markdown",
      "source": [
        "*  обучите модель на тренировочных данных\n",
        "*  сделайте прогноз на тесте\n",
        "*  выведите на экран ошибку $R^2$ на тесте\n",
        "*  подберите `learning_rate` и `eta0` так, чтобы получить наилучшее качество на тестовых данных"
      ],
      "metadata": {
        "id": "flVvoPb86gVt"
      },
      "id": "flVvoPb86gVt"
    },
    {
      "cell_type": "markdown",
      "source": [
        "![image.png](data:image/png;base64,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)"
      ],
      "metadata": {
        "id": "BAvGYnxEhsYZ"
      },
      "id": "BAvGYnxEhsYZ"
    },
    {
      "cell_type": "code",
      "source": [
        "lr_mae = SGDRegressor(loss='epsilon_insensitive', epsilon=0, max_iter=50000, learning_rate='optimal', random_state=42)"
      ],
      "metadata": {
        "id": "G9L_xKsoBziT"
      },
      "id": "G9L_xKsoBziT",
      "execution_count": null,
      "outputs": []
    },
    {
      "cell_type": "code",
      "source": [
        "# ваш код здесь\n",
        "\n",
        "lr_mae.fit(X_train, y_train)\n",
        "\n",
        "y_pred_mae = lr_mae.predict(X_test)\n",
        "\n",
        "r2_score(y_test, y_pred_mae)"
      ],
      "metadata": {
        "id": "E3Q5EDE3CME4",
        "colab": {
          "base_uri": "https://localhost:8080/"
        },
        "outputId": "474e1f5b-b5c4-48e0-89dc-5fa3261f2cec"
      },
      "id": "E3Q5EDE3CME4",
      "execution_count": null,
      "outputs": [
        {
          "output_type": "execute_result",
          "data": {
            "text/plain": [
              "0.5280284554821728"
            ]
          },
          "metadata": {},
          "execution_count": 25
        }
      ]
    },
    {
      "cell_type": "code",
      "execution_count": null,
      "id": "b266dd96",
      "metadata": {
        "ExecuteTime": {
          "end_time": "2021-09-20T20:03:52.207120Z",
          "start_time": "2021-09-20T20:03:51.964240Z"
        },
        "id": "b266dd96",
        "colab": {
          "base_uri": "https://localhost:8080/"
        },
        "outputId": "5fcf57b1-c45f-48ce-e4af-64ad03988b35"
      },
      "outputs": [
        {
          "output_type": "stream",
          "name": "stdout",
          "text": [
            "MSE loss:\n",
            "mae=0.5607145334484367\n",
            "mse=0.5819144501859258\n",
            "mape=0.34142464805594114\n",
            "R2=0.560227865666836\n",
            "\n",
            "MAE loss:\n",
            "mae=0.5534435220468144\n",
            "mse=0.6245212927097961\n",
            "mape=0.3164697049290548\n",
            "R2=0.5280284554821728\n",
            "\n"
          ]
        }
      ],
      "source": [
        "from sklearn.metrics import mean_absolute_percentage_error\n",
        "\n",
        "print(f'''MSE loss:\n",
        "mae={mean_absolute_error(y_test, y_pred_mse)}\n",
        "mse={mean_squared_error(y_test, y_pred_mse)}\n",
        "mape={mean_absolute_percentage_error(y_test, y_pred_mse)}\n",
        "R2={r2_score(y_test, y_pred_mse)}\n",
        "''')\n",
        "\n",
        "print(f'''MAE loss:\n",
        "mae={mean_absolute_error(y_test, y_pred_mae)}\n",
        "mse={mean_squared_error(y_test, y_pred_mae)}\n",
        "mape={mean_absolute_percentage_error(y_test, y_pred_mae)}\n",
        "R2={r2_score(y_test, y_pred_mae)}\n",
        "''')"
      ]
    },
    {
      "cell_type": "markdown",
      "id": "19825a90",
      "metadata": {
        "id": "19825a90"
      },
      "source": [
        "Как мы говорили раньше, метрика должна отражать реальную цель из мира, поэтому нередко возникает потребность в написании своих собственных метрик, которые лучше описывают вашу конретную реальность. В задачах, связанных с медициной (как у нас сейчас), довольно высокая цена ошибки (у человека есть диабет, а мы его не нашли). Поэтому для того, чтобы ответить на вопрос, можно ли модель использовать в жизни, имеет смысл использовать метрику максимальной ошибки модели\n",
        "\n",
        "$max error = max(|\\hat y_{i} - y_{i}|)$"
      ]
    },
    {
      "cell_type": "code",
      "execution_count": 27,
      "id": "0af21500",
      "metadata": {
        "ExecuteTime": {
          "end_time": "2021-09-20T20:03:52.213290Z",
          "start_time": "2021-09-20T20:03:52.208515Z"
        },
        "id": "0af21500",
        "colab": {
          "base_uri": "https://localhost:8080/"
        },
        "outputId": "6c2888bf-01d7-4c37-ed07-401e8c0ce662"
      },
      "outputs": [
        {
          "output_type": "stream",
          "name": "stdout",
          "text": [
            "MSE Loss: 4.317444524722972\n",
            "MAE Loss: 6.23293263308919\n"
          ]
        }
      ],
      "source": [
        "def max_error(y_true, y_pred):\n",
        "    max_erorr = np.abs(y_true - y_pred).max()\n",
        "    return max_erorr\n",
        "\n",
        "def quantile_error(y_true, y_pred, q=0.95):\n",
        "    q_error = np.quantile(np.abs(y_true -  y_pred), q)\n",
        "    return q_error\n",
        "\n",
        "# Оценим максимальную ошибку в обоих случаях\n",
        "\n",
        "print(f'MSE Loss: {max_error(y_test, y_pred_mse)}')\n",
        "print(f'MAE Loss: {max_error(y_test, y_pred_mae)}')"
      ]
    },
    {
      "cell_type": "markdown",
      "id": "afbc9291",
      "metadata": {
        "id": "afbc9291"
      },
      "source": [
        "В sklearn есть большое количество уже реализованных метрик - можете посмотреть их список и варианты применения здесь\n",
        "\n",
        "https://scikit-learn.org/stable/modules/model_evaluation.html#regression-metrics"
      ]
    },
    {
      "cell_type": "markdown",
      "source": [
        "## Интерпретация прогнозов модели"
      ],
      "metadata": {
        "id": "gOV3MOBSEGhl"
      },
      "id": "gOV3MOBSEGhl"
    },
    {
      "cell_type": "code",
      "source": [
        "lr_mse.coef_"
      ],
      "metadata": {
        "colab": {
          "base_uri": "https://localhost:8080/"
        },
        "id": "Zsj6gPOPa1Jo",
        "outputId": "e83aab3d-1490-43f6-a5b2-ea1b28b81db8"
      },
      "id": "Zsj6gPOPa1Jo",
      "execution_count": 28,
      "outputs": [
        {
          "output_type": "execute_result",
          "data": {
            "text/plain": [
              "array([ 0.79128564,  0.19340895, -0.03201605,  0.04555293,  0.02039492,\n",
              "       -0.04446739, -0.33223991, -0.29147816])"
            ]
          },
          "metadata": {},
          "execution_count": 28
        }
      ]
    },
    {
      "cell_type": "code",
      "source": [
        "results = pd.DataFrame({'features' : X_train.columns, 'weights' : lr_mse.coef_})\n",
        "\n",
        "results = results.sort_values(by='weights')"
      ],
      "metadata": {
        "id": "imphO9PNEGhn"
      },
      "execution_count": 29,
      "outputs": [],
      "id": "imphO9PNEGhn"
    },
    {
      "cell_type": "code",
      "source": [
        "results"
      ],
      "metadata": {
        "id": "IZIIgUPqEGhn",
        "colab": {
          "base_uri": "https://localhost:8080/",
          "height": 300
        },
        "outputId": "5e3a3189-0b11-4c97-ac0f-2f12f9c1d5d9"
      },
      "execution_count": 30,
      "outputs": [
        {
          "output_type": "execute_result",
          "data": {
            "text/plain": [
              "     features   weights\n",
              "6    Latitude -0.332240\n",
              "7   Longitude -0.291478\n",
              "5    AveOccup -0.044467\n",
              "2    AveRooms -0.032016\n",
              "4  Population  0.020395\n",
              "3   AveBedrms  0.045553\n",
              "1    HouseAge  0.193409\n",
              "0      MedInc  0.791286"
            ],
            "text/html": [
              "\n",
              "\n",
              "  <div id=\"df-090df2f9-1349-4bc3-85f6-33d010cb70ea\">\n",
              "    <div class=\"colab-df-container\">\n",
              "      <div>\n",
              "<style scoped>\n",
              "    .dataframe tbody tr th:only-of-type {\n",
              "        vertical-align: middle;\n",
              "    }\n",
              "\n",
              "    .dataframe tbody tr th {\n",
              "        vertical-align: top;\n",
              "    }\n",
              "\n",
              "    .dataframe thead th {\n",
              "        text-align: right;\n",
              "    }\n",
              "</style>\n",
              "<table border=\"1\" class=\"dataframe\">\n",
              "  <thead>\n",
              "    <tr style=\"text-align: right;\">\n",
              "      <th></th>\n",
              "      <th>features</th>\n",
              "      <th>weights</th>\n",
              "    </tr>\n",
              "  </thead>\n",
              "  <tbody>\n",
              "    <tr>\n",
              "      <th>6</th>\n",
              "      <td>Latitude</td>\n",
              "      <td>-0.332240</td>\n",
              "    </tr>\n",
              "    <tr>\n",
              "      <th>7</th>\n",
              "      <td>Longitude</td>\n",
              "      <td>-0.291478</td>\n",
              "    </tr>\n",
              "    <tr>\n",
              "      <th>5</th>\n",
              "      <td>AveOccup</td>\n",
              "      <td>-0.044467</td>\n",
              "    </tr>\n",
              "    <tr>\n",
              "      <th>2</th>\n",
              "      <td>AveRooms</td>\n",
              "      <td>-0.032016</td>\n",
              "    </tr>\n",
              "    <tr>\n",
              "      <th>4</th>\n",
              "      <td>Population</td>\n",
              "      <td>0.020395</td>\n",
              "    </tr>\n",
              "    <tr>\n",
              "      <th>3</th>\n",
              "      <td>AveBedrms</td>\n",
              "      <td>0.045553</td>\n",
              "    </tr>\n",
              "    <tr>\n",
              "      <th>1</th>\n",
              "      <td>HouseAge</td>\n",
              "      <td>0.193409</td>\n",
              "    </tr>\n",
              "    <tr>\n",
              "      <th>0</th>\n",
              "      <td>MedInc</td>\n",
              "      <td>0.791286</td>\n",
              "    </tr>\n",
              "  </tbody>\n",
              "</table>\n",
              "</div>\n",
              "      <button class=\"colab-df-convert\" onclick=\"convertToInteractive('df-090df2f9-1349-4bc3-85f6-33d010cb70ea')\"\n",
              "              title=\"Convert this dataframe to an interactive table.\"\n",
              "              style=\"display:none;\">\n",
              "\n",
              "  <svg xmlns=\"http://www.w3.org/2000/svg\" height=\"24px\"viewBox=\"0 0 24 24\"\n",
              "       width=\"24px\">\n",
              "    <path d=\"M0 0h24v24H0V0z\" fill=\"none\"/>\n",
              "    <path d=\"M18.56 5.44l.94 2.06.94-2.06 2.06-.94-2.06-.94-.94-2.06-.94 2.06-2.06.94zm-11 1L8.5 8.5l.94-2.06 2.06-.94-2.06-.94L8.5 2.5l-.94 2.06-2.06.94zm10 10l.94 2.06.94-2.06 2.06-.94-2.06-.94-.94-2.06-.94 2.06-2.06.94z\"/><path d=\"M17.41 7.96l-1.37-1.37c-.4-.4-.92-.59-1.43-.59-.52 0-1.04.2-1.43.59L10.3 9.45l-7.72 7.72c-.78.78-.78 2.05 0 2.83L4 21.41c.39.39.9.59 1.41.59.51 0 1.02-.2 1.41-.59l7.78-7.78 2.81-2.81c.8-.78.8-2.07 0-2.86zM5.41 20L4 18.59l7.72-7.72 1.47 1.35L5.41 20z\"/>\n",
              "  </svg>\n",
              "      </button>\n",
              "\n",
              "\n",
              "\n",
              "    <div id=\"df-97cc3c87-0d3b-4045-b4ec-a520af7dbc5f\">\n",
              "      <button class=\"colab-df-quickchart\" onclick=\"quickchart('df-97cc3c87-0d3b-4045-b4ec-a520af7dbc5f')\"\n",
              "              title=\"Suggest charts.\"\n",
              "              style=\"display:none;\">\n",
              "\n",
              "<svg xmlns=\"http://www.w3.org/2000/svg\" height=\"24px\"viewBox=\"0 0 24 24\"\n",
              "     width=\"24px\">\n",
              "    <g>\n",
              "        <path d=\"M19 3H5c-1.1 0-2 .9-2 2v14c0 1.1.9 2 2 2h14c1.1 0 2-.9 2-2V5c0-1.1-.9-2-2-2zM9 17H7v-7h2v7zm4 0h-2V7h2v10zm4 0h-2v-4h2v4z\"/>\n",
              "    </g>\n",
              "</svg>\n",
              "      </button>\n",
              "    </div>\n",
              "\n",
              "<style>\n",
              "  .colab-df-quickchart {\n",
              "    background-color: #E8F0FE;\n",
              "    border: none;\n",
              "    border-radius: 50%;\n",
              "    cursor: pointer;\n",
              "    display: none;\n",
              "    fill: #1967D2;\n",
              "    height: 32px;\n",
              "    padding: 0 0 0 0;\n",
              "    width: 32px;\n",
              "  }\n",
              "\n",
              "  .colab-df-quickchart:hover {\n",
              "    background-color: #E2EBFA;\n",
              "    box-shadow: 0px 1px 2px rgba(60, 64, 67, 0.3), 0px 1px 3px 1px rgba(60, 64, 67, 0.15);\n",
              "    fill: #174EA6;\n",
              "  }\n",
              "\n",
              "  [theme=dark] .colab-df-quickchart {\n",
              "    background-color: #3B4455;\n",
              "    fill: #D2E3FC;\n",
              "  }\n",
              "\n",
              "  [theme=dark] .colab-df-quickchart:hover {\n",
              "    background-color: #434B5C;\n",
              "    box-shadow: 0px 1px 3px 1px rgba(0, 0, 0, 0.15);\n",
              "    filter: drop-shadow(0px 1px 2px rgba(0, 0, 0, 0.3));\n",
              "    fill: #FFFFFF;\n",
              "  }\n",
              "</style>\n",
              "\n",
              "    <script>\n",
              "      async function quickchart(key) {\n",
              "        const containerElement = document.querySelector('#' + key);\n",
              "        const charts = await google.colab.kernel.invokeFunction(\n",
              "            'suggestCharts', [key], {});\n",
              "      }\n",
              "    </script>\n",
              "\n",
              "      <script>\n",
              "\n",
              "function displayQuickchartButton(domScope) {\n",
              "  let quickchartButtonEl =\n",
              "    domScope.querySelector('#df-97cc3c87-0d3b-4045-b4ec-a520af7dbc5f button.colab-df-quickchart');\n",
              "  quickchartButtonEl.style.display =\n",
              "    google.colab.kernel.accessAllowed ? 'block' : 'none';\n",
              "}\n",
              "\n",
              "        displayQuickchartButton(document);\n",
              "      </script>\n",
              "      <style>\n",
              "    .colab-df-container {\n",
              "      display:flex;\n",
              "      flex-wrap:wrap;\n",
              "      gap: 12px;\n",
              "    }\n",
              "\n",
              "    .colab-df-convert {\n",
              "      background-color: #E8F0FE;\n",
              "      border: none;\n",
              "      border-radius: 50%;\n",
              "      cursor: pointer;\n",
              "      display: none;\n",
              "      fill: #1967D2;\n",
              "      height: 32px;\n",
              "      padding: 0 0 0 0;\n",
              "      width: 32px;\n",
              "    }\n",
              "\n",
              "    .colab-df-convert:hover {\n",
              "      background-color: #E2EBFA;\n",
              "      box-shadow: 0px 1px 2px rgba(60, 64, 67, 0.3), 0px 1px 3px 1px rgba(60, 64, 67, 0.15);\n",
              "      fill: #174EA6;\n",
              "    }\n",
              "\n",
              "    [theme=dark] .colab-df-convert {\n",
              "      background-color: #3B4455;\n",
              "      fill: #D2E3FC;\n",
              "    }\n",
              "\n",
              "    [theme=dark] .colab-df-convert:hover {\n",
              "      background-color: #434B5C;\n",
              "      box-shadow: 0px 1px 3px 1px rgba(0, 0, 0, 0.15);\n",
              "      filter: drop-shadow(0px 1px 2px rgba(0, 0, 0, 0.3));\n",
              "      fill: #FFFFFF;\n",
              "    }\n",
              "  </style>\n",
              "\n",
              "      <script>\n",
              "        const buttonEl =\n",
              "          document.querySelector('#df-090df2f9-1349-4bc3-85f6-33d010cb70ea button.colab-df-convert');\n",
              "        buttonEl.style.display =\n",
              "          google.colab.kernel.accessAllowed ? 'block' : 'none';\n",
              "\n",
              "        async function convertToInteractive(key) {\n",
              "          const element = document.querySelector('#df-090df2f9-1349-4bc3-85f6-33d010cb70ea');\n",
              "          const dataTable =\n",
              "            await google.colab.kernel.invokeFunction('convertToInteractive',\n",
              "                                                     [key], {});\n",
              "          if (!dataTable) return;\n",
              "\n",
              "          const docLinkHtml = 'Like what you see? Visit the ' +\n",
              "            '<a target=\"_blank\" href=https://colab.research.google.com/notebooks/data_table.ipynb>data table notebook</a>'\n",
              "            + ' to learn more about interactive tables.';\n",
              "          element.innerHTML = '';\n",
              "          dataTable['output_type'] = 'display_data';\n",
              "          await google.colab.output.renderOutput(dataTable, element);\n",
              "          const docLink = document.createElement('div');\n",
              "          docLink.innerHTML = docLinkHtml;\n",
              "          element.appendChild(docLink);\n",
              "        }\n",
              "      </script>\n",
              "    </div>\n",
              "  </div>\n"
            ]
          },
          "metadata": {},
          "execution_count": 30
        }
      ],
      "id": "IZIIgUPqEGhn"
    },
    {
      "cell_type": "code",
      "source": [],
      "metadata": {
        "id": "7oDbIT3FPaN5"
      },
      "id": "7oDbIT3FPaN5",
      "execution_count": null,
      "outputs": []
    }
  ],
  "metadata": {
    "kernelspec": {
      "display_name": "Python 3",
      "language": "python",
      "name": "python3"
    },
    "language_info": {
      "codemirror_mode": {
        "name": "ipython",
        "version": 3
      },
      "file_extension": ".py",
      "mimetype": "text/x-python",
      "name": "python",
      "nbconvert_exporter": "python",
      "pygments_lexer": "ipython3",
      "version": "3.7.6"
    },
    "toc": {
      "base_numbering": 1,
      "nav_menu": {},
      "number_sections": true,
      "sideBar": true,
      "skip_h1_title": false,
      "title_cell": "Table of Contents",
      "title_sidebar": "Contents",
      "toc_cell": false,
      "toc_position": {},
      "toc_section_display": true,
      "toc_window_display": true
    },
    "colab": {
      "provenance": [],
      "include_colab_link": true
    }
  },
  "nbformat": 4,
  "nbformat_minor": 5
}