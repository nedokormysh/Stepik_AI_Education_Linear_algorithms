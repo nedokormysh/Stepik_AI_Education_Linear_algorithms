{
  "nbformat": 4,
  "nbformat_minor": 0,
  "metadata": {
    "colab": {
      "provenance": [],
      "include_colab_link": true
    },
    "kernelspec": {
      "name": "python3",
      "display_name": "Python 3"
    },
    "language_info": {
      "name": "python"
    }
  },
  "cells": [
    {
      "cell_type": "markdown",
      "metadata": {
        "id": "view-in-github",
        "colab_type": "text"
      },
      "source": [
        "<a href=\"https://colab.research.google.com/github/nedokormysh/Stepik_AI_Education_Linear_algorithms/blob/week_3/typing.ipynb\" target=\"_parent\"><img src=\"https://colab.research.google.com/assets/colab-badge.svg\" alt=\"Open In Colab\"/></a>"
      ]
    },
    {
      "cell_type": "markdown",
      "source": [
        "# Аннотация типов"
      ],
      "metadata": {
        "id": "3lvGBimJptKF"
      }
    },
    {
      "cell_type": "markdown",
      "source": [
        "## Система типов"
      ],
      "metadata": {
        "id": "1AI_xYcJqGDY"
      }
    },
    {
      "cell_type": "markdown",
      "source": [
        "Python — язык программирования со строгой (сильной) динамической неявной типизацией.\n",
        "* типизированный\n",
        "* неявно типизированный\n",
        "* динамически неявно типизированный\n",
        "* строго динамически неявно типизированный"
      ],
      "metadata": {
        "id": "dgSY1OmPqLZc"
      }
    },
    {
      "cell_type": "code",
      "source": [
        "a = 1\n",
        "b = 1.0\n",
        "c = '1'\n",
        "\n",
        "type(a), type(b), type(c)"
      ],
      "metadata": {
        "colab": {
          "base_uri": "https://localhost:8080/"
        },
        "id": "R_GocdjzpvHB",
        "outputId": "240e9238-b4cb-4239-b602-b525f4296ca7"
      },
      "execution_count": null,
      "outputs": [
        {
          "output_type": "execute_result",
          "data": {
            "text/plain": [
              "(int, float, str)"
            ]
          },
          "metadata": {},
          "execution_count": 27
        }
      ]
    },
    {
      "cell_type": "code",
      "source": [
        "# динамическая типизация\n",
        "a = '1'\n",
        "a = 1"
      ],
      "metadata": {
        "id": "rYB5q-EGrYH3"
      },
      "execution_count": null,
      "outputs": []
    },
    {
      "cell_type": "code",
      "source": [
        "# строгая типизация\n",
        "b + c"
      ],
      "metadata": {
        "colab": {
          "base_uri": "https://localhost:8080/",
          "height": 194
        },
        "id": "NWrMgmldr0Zx",
        "outputId": "69963318-95dd-476b-957a-3b61a69606a2"
      },
      "execution_count": null,
      "outputs": [
        {
          "output_type": "error",
          "ename": "TypeError",
          "evalue": "ignored",
          "traceback": [
            "\u001b[0;31m---------------------------------------------------------------------------\u001b[0m",
            "\u001b[0;31mTypeError\u001b[0m                                 Traceback (most recent call last)",
            "\u001b[0;32m<ipython-input-29-75956db4d488>\u001b[0m in \u001b[0;36m<cell line: 2>\u001b[0;34m()\u001b[0m\n\u001b[1;32m      1\u001b[0m \u001b[0;31m# строгая типизация\u001b[0m\u001b[0;34m\u001b[0m\u001b[0;34m\u001b[0m\u001b[0m\n\u001b[0;32m----> 2\u001b[0;31m \u001b[0mb\u001b[0m \u001b[0;34m+\u001b[0m \u001b[0mc\u001b[0m\u001b[0;34m\u001b[0m\u001b[0;34m\u001b[0m\u001b[0m\n\u001b[0m",
            "\u001b[0;31mTypeError\u001b[0m: unsupported operand type(s) for +: 'float' and 'str'"
          ]
        }
      ]
    },
    {
      "cell_type": "code",
      "source": [
        "# но не совсем\n",
        "a + b"
      ],
      "metadata": {
        "colab": {
          "base_uri": "https://localhost:8080/"
        },
        "id": "ZqX62RZqr1rk",
        "outputId": "947ea025-560e-48f6-fbca-ab028a1401cb"
      },
      "execution_count": null,
      "outputs": [
        {
          "output_type": "execute_result",
          "data": {
            "text/plain": [
              "2.0"
            ]
          },
          "metadata": {},
          "execution_count": 30
        }
      ]
    },
    {
      "cell_type": "markdown",
      "source": [
        "## Утиная типизация"
      ],
      "metadata": {
        "id": "WdImcOM_tBku"
      }
    },
    {
      "cell_type": "markdown",
      "source": [
        "*If it looks like a duck, swims like a duck, and quacks like a duck, then it probably is a duck*"
      ],
      "metadata": {
        "id": "q9M9n5estEzk"
      }
    },
    {
      "cell_type": "markdown",
      "source": [
        "Утиная типизация – концепция при которой не важен конкретный тип объекта, а только его свойства и методы!\n",
        "\n",
        "При таком подходе тип объекта не проверяется, и вместо этого проверяются свойства и методы данного объекта."
      ],
      "metadata": {
        "id": "MWJHvIgHtj_1"
      }
    },
    {
      "cell_type": "code",
      "source": [
        "class Table:\n",
        "  def __init__(self, height, length, wide):\n",
        "    self.height = height\n",
        "    self.length = length\n",
        "    self.wide = wide\n",
        "\n",
        "  def __len__(self):\n",
        "    return self.length"
      ],
      "metadata": {
        "id": "pXfETrxRsxzJ"
      },
      "execution_count": null,
      "outputs": []
    },
    {
      "cell_type": "code",
      "source": [
        "table = Table(70, 120, 60)\n",
        "len(table)"
      ],
      "metadata": {
        "colab": {
          "base_uri": "https://localhost:8080/"
        },
        "id": "8dL9fVnfuiw0",
        "outputId": "edbab419-c921-4a0d-adc6-939b199165a5"
      },
      "execution_count": null,
      "outputs": [
        {
          "output_type": "execute_result",
          "data": {
            "text/plain": [
              "120"
            ]
          },
          "metadata": {},
          "execution_count": 32
        }
      ]
    },
    {
      "cell_type": "code",
      "source": [
        "len([1, 2, 3])"
      ],
      "metadata": {
        "colab": {
          "base_uri": "https://localhost:8080/"
        },
        "id": "PM3kEIZ8urot",
        "outputId": "3abac056-c541-4026-bc6c-13578a0a5ee2"
      },
      "execution_count": null,
      "outputs": [
        {
          "output_type": "execute_result",
          "data": {
            "text/plain": [
              "3"
            ]
          },
          "metadata": {},
          "execution_count": 33
        }
      ]
    },
    {
      "cell_type": "markdown",
      "source": [
        "## Что такое аннотации?"
      ],
      "metadata": {
        "id": "1XRxIXib7rXH"
      }
    },
    {
      "cell_type": "code",
      "source": [
        "# Работаем с версией Python >= 3.10, т.к. в предыдущих версиях языка не все аспекты типизации реализованы явно\n",
        "!python --version"
      ],
      "metadata": {
        "colab": {
          "base_uri": "https://localhost:8080/"
        },
        "id": "Pkpk_mOx-VGH",
        "outputId": "d70b7d3d-b030-48d5-b0e2-ff981fc0dde5"
      },
      "execution_count": null,
      "outputs": [
        {
          "output_type": "stream",
          "name": "stdout",
          "text": [
            "Python 3.10.12\n"
          ]
        }
      ]
    },
    {
      "cell_type": "markdown",
      "source": [
        " Начиная с версии 3.5 в Python появился специальный синтаксис для объявления типов параметров функций и их возвращаемых значений. В последующих релизах данная функциональность была расширена и теперь вокруг аннотаций типов образовалась целая экосистема из подходов и инструментов"
      ],
      "metadata": {
        "id": "tKBxzDTG7vG4"
      }
    },
    {
      "cell_type": "code",
      "source": [
        "# Было раньше\n",
        "def get_full_name(first_name, last_name):\n",
        "    full_name = first_name.title() + \" \" + last_name.title()\n",
        "    return full_name"
      ],
      "metadata": {
        "id": "qUyb5jSe8Qoe"
      },
      "execution_count": null,
      "outputs": []
    },
    {
      "cell_type": "code",
      "source": [
        "# Теперь вот так\n",
        "def get_name_with_age(name: str, age: int):\n",
        "    name_with_age = name + \" is this old: \" + str(age)\n",
        "    return name_with_age"
      ],
      "metadata": {
        "id": "MijQCcdv8gGs"
      },
      "execution_count": null,
      "outputs": []
    },
    {
      "cell_type": "markdown",
      "source": [
        "## Зачем нужны аннотации?"
      ],
      "metadata": {
        "id": "nVelneTBvxm2"
      }
    },
    {
      "cell_type": "markdown",
      "source": [
        "*   читабельность кода\n",
        "*   подсказки в IDE\n",
        "*   статический анализ кода\n",
        "*   автоматическая валидация данных"
      ],
      "metadata": {
        "id": "SmLJxDQcxAlm"
      }
    },
    {
      "cell_type": "markdown",
      "source": [
        "## Простые типы"
      ],
      "metadata": {
        "id": "mfAoHvvX-HOX"
      }
    },
    {
      "cell_type": "markdown",
      "source": [
        "`int, float, bool, str, bytes, None`"
      ],
      "metadata": {
        "id": "3CWFefrq-nkp"
      }
    },
    {
      "cell_type": "code",
      "source": [
        "def get_name_with_age(name: str, age: int = 42) -> str:\n",
        "    name_with_age = name + \" is this old: \" + str(age)\n",
        "    return name_with_age"
      ],
      "metadata": {
        "id": "6Kj6t6AQ-N5Q"
      },
      "execution_count": null,
      "outputs": []
    },
    {
      "cell_type": "code",
      "source": [
        "get_name_with_age('Trinity')"
      ],
      "metadata": {
        "colab": {
          "base_uri": "https://localhost:8080/",
          "height": 35
        },
        "id": "yeGPBmjT-d9v",
        "outputId": "59bba1ee-1e79-42b0-a118-1fed1cfd2ccd"
      },
      "execution_count": null,
      "outputs": [
        {
          "output_type": "execute_result",
          "data": {
            "text/plain": [
              "'Trinity is this old: 42'"
            ],
            "application/vnd.google.colaboratory.intrinsic+json": {
              "type": "string"
            }
          },
          "metadata": {},
          "execution_count": 37
        }
      ]
    },
    {
      "cell_type": "code",
      "source": [
        "def get_name_with_age(name: str = 'Neo', age: int = 42) -> None:\n",
        "    name_with_age = name + \" is this old: \" + str(age)\n",
        "    print(name_with_age)"
      ],
      "metadata": {
        "id": "GE9-dF84-gWJ"
      },
      "execution_count": null,
      "outputs": []
    },
    {
      "cell_type": "code",
      "source": [
        "get_name_with_age()"
      ],
      "metadata": {
        "colab": {
          "base_uri": "https://localhost:8080/"
        },
        "id": "PjYvkoH3_JzC",
        "outputId": "7e0d5439-16b6-46d4-a2e5-3f172120d79b"
      },
      "execution_count": null,
      "outputs": [
        {
          "output_type": "stream",
          "name": "stdout",
          "text": [
            "Neo is this old: 42\n"
          ]
        }
      ]
    },
    {
      "cell_type": "markdown",
      "source": [
        "Аннотировать типы можно в любом месте программы"
      ],
      "metadata": {
        "id": "xD-MCZH-_gtM"
      }
    },
    {
      "cell_type": "code",
      "source": [
        "name: str = \"Neo\"\n",
        "age: int = 42\n",
        "is_agent: bool = False"
      ],
      "metadata": {
        "id": "HpfJYj6n_Lce"
      },
      "execution_count": null,
      "outputs": []
    },
    {
      "cell_type": "markdown",
      "source": [
        "Аннотировать можно собственными типами"
      ],
      "metadata": {
        "id": "A6qoobDy_8yF"
      }
    },
    {
      "cell_type": "code",
      "source": [
        "class SuperType:\n",
        "    ..."
      ],
      "metadata": {
        "id": "wUaz1Y2HABDR"
      },
      "execution_count": null,
      "outputs": []
    },
    {
      "cell_type": "code",
      "source": [
        "something_strange: SuperType = SuperType()"
      ],
      "metadata": {
        "id": "iBH7lgUOAIcQ"
      },
      "execution_count": null,
      "outputs": []
    },
    {
      "cell_type": "markdown",
      "source": [
        "## Контейнеры"
      ],
      "metadata": {
        "id": "SVo-LCHFAWec"
      }
    },
    {
      "cell_type": "markdown",
      "source": [
        "`list, tuple, dict, set`"
      ],
      "metadata": {
        "id": "xXgdoovgBQlv"
      }
    },
    {
      "cell_type": "code",
      "source": [
        "# НЕИНФОРМАТИВНО!\n",
        "primes: list\n",
        "person_info: tuple\n",
        "stock_prices: dict\n",
        "valid_answers: set"
      ],
      "metadata": {
        "id": "ucXbTAD0B_-H"
      },
      "execution_count": null,
      "outputs": []
    },
    {
      "cell_type": "markdown",
      "source": [
        "**ВАЖНО**  \n",
        "До версии Python 3.9 приходилось использовать отдельные классы из модуля `Typing`"
      ],
      "metadata": {
        "id": "OK7AbsCuBbe0"
      }
    },
    {
      "cell_type": "code",
      "source": [
        "# Python 3.9\n",
        "from typing import List, Tuple, Dict, Set\n",
        "\n",
        "# тип всех элементов списка\n",
        "primes: List[int]\n",
        "\n",
        "# тип каждого элемента кортежа\n",
        "person_info: Tuple[str, int, float, float]\n",
        "\n",
        "# тип ключей, тип значений\n",
        "stock_prices: Dict[str, float]\n",
        "\n",
        "# тип всех элементов множества\n",
        "valid_answers: Set[str]"
      ],
      "metadata": {
        "id": "WEYcA-lWAYcV"
      },
      "execution_count": null,
      "outputs": []
    },
    {
      "cell_type": "code",
      "source": [
        "# Python >= 3.9\n",
        "\n",
        "# тип всех элементов списка\n",
        "primes: list[int]\n",
        "\n",
        "# тип каждого элемента кортежа\n",
        "person_info: tuple[str, int, float, float]\n",
        "\n",
        "# тип ключей, тип значений\n",
        "stock_prices: dict[str, float]\n",
        "\n",
        "# тип всех элементов множества\n",
        "valid_answers: set[str]"
      ],
      "metadata": {
        "id": "5bYXw4FlCUaX"
      },
      "execution_count": null,
      "outputs": []
    },
    {
      "cell_type": "markdown",
      "source": [
        "Обратите внимание на разницу между списками и кортежами!"
      ],
      "metadata": {
        "id": "gqk_ySbHa-GH"
      }
    },
    {
      "cell_type": "code",
      "source": [
        "# Если хочется использовать кортеж как неизменяемую последовательность однородных данных\n",
        "months: Tuple[str, ...]"
      ],
      "metadata": {
        "id": "Sx6tlhKWar_i"
      },
      "execution_count": null,
      "outputs": []
    },
    {
      "cell_type": "markdown",
      "source": [
        "## Составные типы"
      ],
      "metadata": {
        "id": "yho486unbFgv"
      }
    },
    {
      "cell_type": "code",
      "source": [
        "from typing import Union\n",
        "\n",
        "def add_or_concatenate(a: Union[str, int], b: Union[str, int]):\n",
        "    return a + b"
      ],
      "metadata": {
        "id": "K6waKPpMbVwP"
      },
      "execution_count": null,
      "outputs": []
    },
    {
      "cell_type": "code",
      "source": [
        "from typing import Optional, Union\n",
        "\n",
        "# первый вариант\n",
        "phone: Optional[str]\n",
        "\n",
        "# второй вариант\n",
        "phone: Union[str, None]"
      ],
      "metadata": {
        "id": "gNU7nY6abbSY"
      },
      "execution_count": null,
      "outputs": []
    },
    {
      "cell_type": "code",
      "source": [
        "from typing import Any\n",
        "\n",
        "def func(arg: Any) -> Any:\n",
        "    return arg"
      ],
      "metadata": {
        "id": "DmQhp8p9bluK"
      },
      "execution_count": null,
      "outputs": []
    }
  ]
}