{
  "nbformat": 4,
  "nbformat_minor": 0,
  "metadata": {
    "colab": {
      "provenance": [],
      "include_colab_link": true
    },
    "kernelspec": {
      "name": "python3",
      "display_name": "Python 3"
    },
    "language_info": {
      "name": "python"
    }
  },
  "cells": [
    {
      "cell_type": "markdown",
      "metadata": {
        "id": "view-in-github",
        "colab_type": "text"
      },
      "source": [
        "<a href=\"https://colab.research.google.com/github/nedokormysh/Stepik_AI_Education_Linear_algorithms/blob/week_3/decorators.ipynb\" target=\"_parent\"><img src=\"https://colab.research.google.com/assets/colab-badge.svg\" alt=\"Open In Colab\"/></a>"
      ]
    },
    {
      "cell_type": "markdown",
      "source": [
        "# Декораторы"
      ],
      "metadata": {
        "id": "AFDYrUmTYEdX"
      }
    },
    {
      "cell_type": "markdown",
      "source": [
        "Декоратор — это функция, которая *оборачивает* другую функцию для расширения её функциональности без непосредственного изменения кода *оборачиваемой* функции.\n",
        "\n",
        " В качестве параметра декоратор получает функцию и в качестве результата также возвращает функцию."
      ],
      "metadata": {
        "id": "2z2aiX5MYMYz"
      }
    },
    {
      "cell_type": "markdown",
      "source": [
        "## Принцип работы"
      ],
      "metadata": {
        "id": "kivjcjQTgqND"
      }
    },
    {
      "cell_type": "code",
      "execution_count": 1,
      "metadata": {
        "id": "gGfZu5UmX-5F"
      },
      "outputs": [],
      "source": [
        "def invite():\n",
        "    print(\"Приглашаем подключиться к сегодняшнему занятию\")"
      ]
    },
    {
      "cell_type": "code",
      "source": [
        "invite()"
      ],
      "metadata": {
        "colab": {
          "base_uri": "https://localhost:8080/"
        },
        "id": "r6bKnvLegxGG",
        "outputId": "76f46d7a-6431-47a6-f3f2-ab1eed892e0c"
      },
      "execution_count": 2,
      "outputs": [
        {
          "output_type": "stream",
          "name": "stdout",
          "text": [
            "Приглашаем подключиться к сегодняшнему занятию\n"
          ]
        }
      ]
    },
    {
      "cell_type": "code",
      "source": [
        "# декоратор для функции\n",
        "def hello_friends(input_func):\n",
        "\n",
        "  # определяем функцию, которая оборачивает оригинальную функцию\n",
        "  def output_func():\n",
        "\n",
        "    # перед выводом оригинальной функции вежливо здороваемся\n",
        "    print(\"Привет, друзья!\")\n",
        "\n",
        "    # вызываем оригинальную функцию\n",
        "    input_func()\n",
        "\n",
        "    # после вывода оригинальной функции, не забываем попрощаться!\n",
        "    print(\"До встречи на занятии!\")\n",
        "\n",
        "  # возвращаем новую функцию\n",
        "  return output_func"
      ],
      "metadata": {
        "id": "HrVrIjQeg2Fg"
      },
      "execution_count": 3,
      "outputs": []
    },
    {
      "cell_type": "code",
      "source": [
        "# применяем декоратор hello_friends\n",
        "\n",
        "@hello_friends\n",
        "def invite():\n",
        "    print(\"Приглашаем подключиться к сегодняшнему занятию\")\n",
        "\n",
        "\n",
        "@bye_friends\n",
        "@hello_friends\n",
        "def invite_2():\n",
        "    print(\"Приглашаем подключиться к сегодняшнему занятию\")"
      ],
      "metadata": {
        "id": "iSUfEk9-iZIC"
      },
      "execution_count": null,
      "outputs": []
    },
    {
      "cell_type": "code",
      "source": [
        "# применяем декоратор hello_friends\n",
        "\n",
        "@hello_friends\n",
        "def invite():\n",
        "    print(\"Приглашаем подключиться к сегодняшнему занятию\")"
      ],
      "metadata": {
        "id": "mPHmakQNj61x"
      },
      "execution_count": 4,
      "outputs": []
    },
    {
      "cell_type": "code",
      "source": [
        "invite()"
      ],
      "metadata": {
        "colab": {
          "base_uri": "https://localhost:8080/"
        },
        "id": "gMMJVb5xikBx",
        "outputId": "d8affb46-85b4-4132-dee3-468559af5a0d"
      },
      "execution_count": 5,
      "outputs": [
        {
          "output_type": "stream",
          "name": "stdout",
          "text": [
            "Привет, друзья!\n",
            "Приглашаем подключиться к сегодняшнему занятию\n",
            "До встречи на занятии!\n"
          ]
        }
      ]
    },
    {
      "cell_type": "markdown",
      "source": [
        "## Получение параметров функции"
      ],
      "metadata": {
        "id": "SIN379dbmD_0"
      }
    },
    {
      "cell_type": "markdown",
      "source": [
        "Декоратор может перехватывать передаваемые в функцию аргументы"
      ],
      "metadata": {
        "id": "D5hxX3xamKvL"
      }
    },
    {
      "cell_type": "code",
      "source": [
        "# декоратор перехватывающий аргументы\n",
        "def validate(input_func):\n",
        "\n",
        "  # через *args получаем значения параметров оригинальной функции\n",
        "  def output_func(*args):\n",
        "    # вызываем оригинальную функцию\n",
        "    input_func(*args)\n",
        "\n",
        "  # возвращаем новую функцию\n",
        "  return output_func"
      ],
      "metadata": {
        "id": "x54XBpjxik1i"
      },
      "execution_count": 6,
      "outputs": []
    },
    {
      "cell_type": "code",
      "source": [
        "@validate\n",
        "def pet_info(name, age):\n",
        "    print(f\"Кличка:\\t\\t{name}\\nВозраст:\\t{age}\")"
      ],
      "metadata": {
        "id": "G4BkI7menbuj"
      },
      "execution_count": 7,
      "outputs": []
    },
    {
      "cell_type": "code",
      "source": [
        "pet_info(\"Пушок\", 199)"
      ],
      "metadata": {
        "colab": {
          "base_uri": "https://localhost:8080/"
        },
        "id": "JO0C0s5dnmkG",
        "outputId": "97da389d-570e-41d8-8160-9c9cd2046d83"
      },
      "execution_count": 8,
      "outputs": [
        {
          "output_type": "stream",
          "name": "stdout",
          "text": [
            "Кличка:\t\tПушок\n",
            "Возраст:\t199\n"
          ]
        }
      ]
    },
    {
      "cell_type": "code",
      "source": [
        "# декоратор перехватывающий аргументы\n",
        "def validate(input_func):\n",
        "\n",
        "  # через *args получаем значения параметров оригинальной функции\n",
        "  def output_func(*args):\n",
        "    # получаем значения параметров\n",
        "    name = args[0]\n",
        "    age = args[1]\n",
        "\n",
        "    # если возраст неадекватный, меняем его значение на 42\n",
        "    if not (0 < age < 100):\n",
        "      age = 42\n",
        "\n",
        "    # вызываем оригинальную функцию\n",
        "    input_func(name, age)\n",
        "\n",
        "  # возвращаем новую функцию\n",
        "  return output_func"
      ],
      "metadata": {
        "id": "t3UehXgtofbF"
      },
      "execution_count": null,
      "outputs": []
    },
    {
      "cell_type": "code",
      "source": [
        "@validate\n",
        "def pet_info(name, age):\n",
        "    print(f\"Кличка:\\t\\t{name}\\nВозраст:\\t{age}\")"
      ],
      "metadata": {
        "id": "uNWhDuHQpMb0"
      },
      "execution_count": null,
      "outputs": []
    },
    {
      "cell_type": "code",
      "source": [
        "pet_info(\"Пушок\", 199)"
      ],
      "metadata": {
        "colab": {
          "base_uri": "https://localhost:8080/"
        },
        "id": "_dlFMOgBpEQT",
        "outputId": "9d4d189b-f92c-4ecd-8f90-4f5aa60abb47"
      },
      "execution_count": null,
      "outputs": [
        {
          "output_type": "stream",
          "name": "stdout",
          "text": [
            "Кличка:\t\tПушок\n",
            "Возраст:\t42\n"
          ]
        }
      ]
    },
    {
      "cell_type": "markdown",
      "source": [
        "## Получение результата функции"
      ],
      "metadata": {
        "id": "WOCX4SRVpTBQ"
      }
    },
    {
      "cell_type": "markdown",
      "source": [
        "Аналогичным образом можно получить результат работы функции и при необходимости менять его"
      ],
      "metadata": {
        "id": "dRf5qRrFpfmo"
      }
    },
    {
      "cell_type": "code",
      "source": [
        "# декоратор перехватывающий результат функции\n",
        "def absolute(input_func):\n",
        "  def output_func(*args):\n",
        "    # передаем функции значения параметров\n",
        "    result = input_func(*args)\n",
        "\n",
        "    # если результат функции меньше нуля, то возвращаем 0\n",
        "    if result < 0:\n",
        "      return result * (-1)\n",
        "\n",
        "    return result\n",
        "\n",
        "  return output_func"
      ],
      "metadata": {
        "id": "9WKXbySVpFfu"
      },
      "execution_count": 9,
      "outputs": []
    },
    {
      "cell_type": "code",
      "source": [
        "# линейная функция\n",
        "@absolute\n",
        "def linear_func(x, k=1, b=0):\n",
        "    return k*x + b"
      ],
      "metadata": {
        "id": "xFbFSHCNrJhJ"
      },
      "execution_count": 10,
      "outputs": []
    },
    {
      "cell_type": "code",
      "source": [
        "linear_func(3)"
      ],
      "metadata": {
        "colab": {
          "base_uri": "https://localhost:8080/"
        },
        "id": "tT9hRq3mrxxY",
        "outputId": "2a9bdea5-8aea-4014-b6ad-f21d14dae0e6"
      },
      "execution_count": 11,
      "outputs": [
        {
          "output_type": "execute_result",
          "data": {
            "text/plain": [
              "3"
            ]
          },
          "metadata": {},
          "execution_count": 11
        }
      ]
    },
    {
      "cell_type": "code",
      "source": [
        "linear_func(-3)"
      ],
      "metadata": {
        "colab": {
          "base_uri": "https://localhost:8080/"
        },
        "id": "vycRTTcer2xi",
        "outputId": "aa52f01a-958e-43da-e514-1aa63f765986"
      },
      "execution_count": 12,
      "outputs": [
        {
          "output_type": "execute_result",
          "data": {
            "text/plain": [
              "3"
            ]
          },
          "metadata": {},
          "execution_count": 12
        }
      ]
    }
  ]
}